{
 "metadata": {
  "name": ""
 },
 "nbformat": 3,
 "nbformat_minor": 0,
 "worksheets": [
  {
   "cells": [
    {
     "cell_type": "code",
     "collapsed": false,
     "input": [
      "from numpy import array, dot\n",
      "from sympy.abc import *\n",
      "from sympy import *\n",
      "import sympy\n",
      "print sympy.__version__\n",
      "init_printing(use_latex=True)"
     ],
     "language": "python",
     "metadata": {},
     "outputs": [
      {
       "output_type": "stream",
       "stream": "stdout",
       "text": [
        "0.7.2\n"
       ]
      }
     ],
     "prompt_number": 23
    },
    {
     "cell_type": "code",
     "collapsed": false,
     "input": [
      "def G(i,j,k,a,r,A):\n",
      "    rA = r - A\n",
      "    xA = rA[0]\n",
      "    yA = rA[1]\n",
      "    zA = rA[2]\n",
      "    rA2 = dot(rA,rA)\n",
      "    return xA**i * yA**j * zA**k * exp(-a * rA2)\n",
      "Ax, Ay, Az = symbols(\"A_x A_y A_z\")\n",
      "r = array([x, y, z])\n",
      "A = array([Ax, Ay, Az])\n",
      "Gz = G(2,3,4,0.6,r,A)\n",
      "diff(Gz, x, x)"
     ],
     "language": "python",
     "metadata": {},
     "outputs": [
      {
       "latex": [
        "$$2 \\left(- 2 A_{x} + 2 x\\right) \\left(1.2 A_{x} - 1.2 x\\right) \\left(- A_{y} + y\\right)^{3} \\left(- A_{z} + z\\right)^{4} e^{- 0.6 \\left(- A_{x} + x\\right)^{2} - 0.6 \\left(- A_{y} + y\\right)^{2} - 0.6 \\left(- A_{z} + z\\right)^{2}} + \\left(- A_{x} + x\\right)^{2} \\left(1.2 A_{x} - 1.2 x\\right)^{2} \\left(- A_{y} + y\\right)^{3} \\left(- A_{z} + z\\right)^{4} e^{- 0.6 \\left(- A_{x} + x\\right)^{2} - 0.6 \\left(- A_{y} + y\\right)^{2} - 0.6 \\left(- A_{z} + z\\right)^{2}} - 1.2 \\left(- A_{x} + x\\right)^{2} \\left(- A_{y} + y\\right)^{3} \\left(- A_{z} + z\\right)^{4} e^{- 0.6 \\left(- A_{x} + x\\right)^{2} - 0.6 \\left(- A_{y} + y\\right)^{2} - 0.6 \\left(- A_{z} + z\\right)^{2}} + 2 \\left(- A_{y} + y\\right)^{3} \\left(- A_{z} + z\\right)^{4} e^{- 0.6 \\left(- A_{x} + x\\right)^{2} - 0.6 \\left(- A_{y} + y\\right)^{2} - 0.6 \\left(- A_{z} + z\\right)^{2}}$$"
       ],
       "metadata": {},
       "output_type": "pyout",
       "png": "[encoded data removed]",
       "prompt_number": 24,
       "text": [
        "                                                                         2    \n",
        "                                           3           4  - 0.6\u22c5(-A\u2093 + x)  - 0\n",
        "2\u22c5(-2\u22c5A\u2093 + 2\u22c5x)\u22c5(1.2\u22c5A\u2093 - 1.2\u22c5x)\u22c5(-A_y + y) \u22c5(-A_z + z) \u22c5\u212f                    \n",
        "\n",
        "             2                 2                                              \n",
        ".6\u22c5(-A_y + y)  - 0.6\u22c5(-A_z + z)             2                 2           3   \n",
        "                                 + (-A\u2093 + x) \u22c5(1.2\u22c5A\u2093 - 1.2\u22c5x) \u22c5(-A_y + y) \u22c5(-\n",
        "\n",
        "                          2                 2                 2               \n",
        "        4  - 0.6\u22c5(-A\u2093 + x)  - 0.6\u22c5(-A_y + y)  - 0.6\u22c5(-A_z + z)                \n",
        "A_z + z) \u22c5\u212f                                                     - 1.2\u22c5(-A\u2093 + x\n",
        "\n",
        "                                           2                 2                \n",
        " 2           3           4  - 0.6\u22c5(-A\u2093 + x)  - 0.6\u22c5(-A_y + y)  - 0.6\u22c5(-A_z + z\n",
        ") \u22c5(-A_y + y) \u22c5(-A_z + z) \u22c5\u212f                                                  \n",
        "\n",
        " 2                                             2                 2            \n",
        ")                3           4  - 0.6\u22c5(-A\u2093 + x)  - 0.6\u22c5(-A_y + y)  - 0.6\u22c5(-A_z\n",
        "   + 2\u22c5(-A_y + y) \u22c5(-A_z + z) \u22c5\u212f                                              \n",
        "\n",
        "     2\n",
        " + z) \n",
        "      "
       ]
      }
     ],
     "prompt_number": 24
    },
    {
     "cell_type": "code",
     "collapsed": false,
     "input": [
      "G_a = G(1,2,0,alpha,r,A)\n",
      "G_a"
     ],
     "language": "python",
     "metadata": {},
     "outputs": [
      {
       "latex": [
        "$$\\left(- A_{x} + x\\right) \\left(- A_{y} + y\\right)^{2} e^{- \\alpha \\left(\\left(- A_{x} + x\\right)^{2} + \\left(- A_{y} + y\\right)^{2} + \\left(- A_{z} + z\\right)^{2}\\right)}$$"
       ],
       "metadata": {},
       "output_type": "pyout",
       "png": "[encoded data removed]",
       "prompt_number": 25,
       "text": [
        "                          \u239b         2             2             2\u239e\n",
        "                    2  -\u03b1\u22c5\u239d(-A\u2093 + x)  + (-A_y + y)  + (-A_z + z) \u23a0\n",
        "(-A\u2093 + x)\u22c5(-A_y + y) \u22c5\u212f                                           "
       ]
      }
     ],
     "prompt_number": 25
    },
    {
     "cell_type": "code",
     "collapsed": false,
     "input": [
      "r = array([x, y, z])\n",
      "a,i,j,k = symbols(\"a i j k\")\n",
      "Ax, Ay, Az = symbols(\"A_x A_y A_z\")\n",
      "A = array([Ax, Ay, Az])\n",
      "Bx, By, Bz = symbols(\"B_x B_y B_z\")\n",
      "B = array([Bx, By, Bz])"
     ],
     "language": "python",
     "metadata": {},
     "outputs": [],
     "prompt_number": 26
    },
    {
     "cell_type": "code",
     "collapsed": false,
     "input": [
      "product = G(i,k,m,a,r,A) * G(j,l,n,b,r,B)\n",
      "product"
     ],
     "language": "python",
     "metadata": {},
     "outputs": [
      {
       "latex": [
        "$$\\left(- A_{x} + x\\right)^{i} \\left(- A_{y} + y\\right)^{k} \\left(- A_{z} + z\\right)^{m} \\left(- B_{x} + x\\right)^{j} \\left(- B_{y} + y\\right)^{l} \\left(- B_{z} + z\\right)^{n} e^{- a \\left(\\left(- A_{x} + x\\right)^{2} + \\left(- A_{y} + y\\right)^{2} + \\left(- A_{z} + z\\right)^{2}\\right)} e^{- b \\left(\\left(- B_{x} + x\\right)^{2} + \\left(- B_{y} + y\\right)^{2} + \\left(- B_{z} + z\\right)^{2}\\right)}$$"
       ],
       "metadata": {},
       "output_type": "pyout",
       "png": "[encoded data removed]",
       "prompt_number": 27,
       "text": [
        "                                                                          \u239b   \n",
        "         i           k           m          j           l           n  -a\u22c5\u239d(-A\n",
        "(-A\u2093 + x) \u22c5(-A_y + y) \u22c5(-A_z + z) \u22c5(-B\u2093 + x) \u22c5(-B_y + y) \u22c5(-B_z + z) \u22c5\u212f       \n",
        "\n",
        "      2             2             2\u239e     \u239b         2             2            \n",
        "\u2093 + x)  + (-A_y + y)  + (-A_z + z) \u23a0  -b\u22c5\u239d(-B\u2093 + x)  + (-B_y + y)  + (-B_z + z\n",
        "                                    \u22c5\u212f                                        \n",
        "\n",
        " 2\u239e\n",
        ") \u23a0\n",
        "   "
       ]
      }
     ],
     "prompt_number": 27
    },
    {
     "cell_type": "code",
     "collapsed": false,
     "input": [
      "A = array([1.2,2.3,3.4])\n",
      "B = array([-1.3,1.4,-2.4])\n",
      "product = G(0,0,0,0.2,r,A)*G(0,0,0,0.3,r,B)\n",
      "N(integrate(integrate(integrate(product, (x,-oo, oo)), (y,-oo,oo)), (z,-oo,oo)))"
     ],
     "language": "python",
     "metadata": {},
     "outputs": [
      {
       "latex": [
        "$$0.119172363580852$$"
       ],
       "metadata": {},
       "output_type": "pyout",
       "png": "[encoded data removed]",
       "prompt_number": 28,
       "text": [
        "0.119172363580852"
       ]
      }
     ],
     "prompt_number": 28
    },
    {
     "cell_type": "code",
     "collapsed": false,
     "input": [
      "product3 = G(1,0,0,0.2,r,array([1.2,2.3,3.4])) * G(0,1,0,0.3,r,array([0.0, 0.0, 0.0]))\n",
      "product3"
     ],
     "language": "python",
     "metadata": {},
     "outputs": [
      {
       "latex": [
        "$$y \\left(x -1.2\\right) e^{- 0.3 x^{2} - 0.3 y^{2} - 0.3 z^{2}} e^{- 0.2 \\left(x -1.2\\right)^{2} - 0.2 \\left(y -2.3\\right)^{2} - 0.2 \\left(z -3.4\\right)^{2}}$$"
       ],
       "metadata": {},
       "output_type": "pyout",
       "png": "[encoded data removed]",
       "prompt_number": 31,
       "text": [
        "                    2        2        2                 2                2    \n",
        "             - 0.3\u22c5x  - 0.3\u22c5y  - 0.3\u22c5z   - 0.2\u22c5(x - 1.2)  - 0.2\u22c5(y - 2.3)  - 0\n",
        "y\u22c5(x - 1.2)\u22c5\u212f                          \u22c5\u212f                                     \n",
        "\n",
        "            2\n",
        ".2\u22c5(z - 3.4) \n",
        "             "
       ]
      }
     ],
     "prompt_number": 31
    },
    {
     "cell_type": "code",
     "collapsed": false,
     "input": [
      "N(integrate(integrate(integrate(product3, (x,-oo, oo)), (y,-oo,oo)), (z,-oo,oo)))"
     ],
     "language": "python",
     "metadata": {},
     "outputs": [
      {
       "latex": [
        "$$-1.16198520234169$$"
       ],
       "metadata": {},
       "output_type": "pyout",
       "png": "[encoded data removed]",
       "prompt_number": 32,
       "text": [
        "-1.16198520234169"
       ]
      }
     ],
     "prompt_number": 32
    },
    {
     "cell_type": "code",
     "collapsed": false,
     "input": [
      "#product4 = G(1,0,3,0.2,r,array([1.2,2.3,3.4])) * G(2,1,0,0.3,r,array([0.0, 0.0, 0.0]))\n",
      "#product4"
     ],
     "language": "python",
     "metadata": {},
     "outputs": [],
     "prompt_number": 33
    },
    {
     "cell_type": "code",
     "collapsed": false,
     "input": [
      "#N(integrate(integrate(integrate(product4, (x,-oo, oo)), (y,-oo,oo)), (z,-oo,oo)))"
     ],
     "language": "python",
     "metadata": {},
     "outputs": [],
     "prompt_number": 34
    },
    {
     "cell_type": "heading",
     "level": 2,
     "metadata": {},
     "source": [
      "Overlap integrals"
     ]
    },
    {
     "cell_type": "code",
     "collapsed": false,
     "input": [
      "from itertools import product, combinations_with_replacement\n",
      "combos = []\n",
      "a = 0.2\n",
      "b = 0.3\n",
      "A = array([1.2,2.3,3.4])\n",
      "B = array([-1.3,1.4,-2.4])\n",
      "r = array([x, y, z])\n",
      "for combo in product(range(10), repeat=3):\n",
      "    combos.append(combo)\n",
      "for combo2 in combinations_with_replacement(combos, 2):\n",
      "    iA, jA, kA = combo2[0][0], combo2[0][1], combo2[0][2]\n",
      "    iB, jB, kB = combo2[1][0], combo2[1][1], combo2[1][2]\n",
      "    overlapProduct = G(iA,jA,kA,a,r,A) * G(iB,jB,kB,b,r,B)\n",
      "    result = N(integrate(integrate(integrate(overlapProduct, (x,-oo, oo)), (y,-oo,oo)), (z,-oo,oo)))\n",
      "    print \"CHECK_CLOSE(integrator.overlapIntegral(\" \\\n",
      "          + str(combo2[0][0]) + \",\" + str(combo2[0][1]) + \",\" + str(combo2[0][2]) + \",\" \\\n",
      "          + str(combo2[1][0]) + \",\" + str(combo2[1][1]) + \",\" + str(combo2[1][2]) + \"), \" + str(result) \\\n",
      "            + \", 0.00001);\""
     ],
     "language": "python",
     "metadata": {},
     "outputs": [
      {
       "output_type": "stream",
       "stream": "stdout",
       "text": [
        "CHECK_CLOSE(integrator.overlapIntegral(0,0,0,0,0,0), 0.119172363580852, 0.00001);\n"
       ]
      }
     ],
     "prompt_number": 35
    },
    {
     "cell_type": "heading",
     "level": 2,
     "metadata": {},
     "source": [
      "Kinetic integrals"
     ]
    },
    {
     "cell_type": "code",
     "collapsed": true,
     "input": [
      "from itertools import product, combinations_with_replacement\n",
      "a = 0.2\n",
      "b = 0.3\n",
      "A = array([1.2,2.3,3.4])\n",
      "B = array([-1.3,1.4,-2.4])\n",
      "r = array([x, y, z])\n",
      "combos = []\n",
      "for combo in product(range(2), repeat=3):\n",
      "    combos.append(combo)\n",
      "for combo2 in combinations_with_replacement(combos, 2):\n",
      "    iA, jA, kA = combo2[0][0], combo2[0][1], combo2[0][2]\n",
      "    iB, jB, kB = combo2[1][0], combo2[1][1], combo2[1][2]\n",
      "    Gb = G(iB,jB,kB,b,r,B)\n",
      "    kineticProduct = -0.5 * G(iA,jA,kA,a,r,A) * (diff(Gb, x, x) + diff(Gb, y, y) + diff(Gb, z, z))\n",
      "    result = N(integrate(integrate(integrate(kineticProduct, (x,-oo, oo)), (y,-oo,oo)), (z,-oo,oo)))\n",
      "    print \"CHECK_CLOSE(\" + str(result) + \", integrator.kineticIntegral(\" \\\n",
      "          + str(combo2[0][0]) + \",\" + str(combo2[0][1]) + \",\" + str(combo2[0][2]) + \",\" \\\n",
      "          + str(combo2[1][0]) + \",\" + str(combo2[1][1]) + \",\" + str(combo2[1][2]) + \")\" \\\n",
      "            + \", 0.00001);\""
     ],
     "language": "python",
     "metadata": {},
     "outputs": [
      {
       "output_type": "stream",
       "stream": "stdout",
       "text": [
        "[(0, 0, 0), (0, 0, 1), (0, 1, 0), (0, 1, 1), (1, 0, 0), (1, 0, 1), (1, 1, 0), (1, 1, 1)]\n",
        "<itertools.combinations_with_replacement object at 0x13adcba8>\n",
        "CHECK_CLOSE(-0.0967870268058250, integrator.kineticIntegral(0,0,0,0,0,0), 0.00001);"
       ]
      },
      {
       "output_type": "stream",
       "stream": "stdout",
       "text": [
        "\n",
        "CHECK_CLOSE(-0.158190730147696, integrator.kineticIntegral(0,0,0,0,0,1), 0.00001);"
       ]
      },
      {
       "output_type": "stream",
       "stream": "stdout",
       "text": [
        "\n",
        "CHECK_CLOSE(-0.0245468374367114, integrator.kineticIntegral(0,0,0,0,1,0), 0.00001);"
       ]
      },
      {
       "output_type": "stream",
       "stream": "stdout",
       "text": [
        "\n",
        "CHECK_CLOSE(-0.0330608009181156, integrator.kineticIntegral(0,0,0,0,1,1), 0.00001);"
       ]
      },
      {
       "output_type": "stream",
       "stream": "stdout",
       "text": [
        "\n",
        "CHECK_CLOSE(-0.0681856595464203, integrator.kineticIntegral(0,0,0,1,0,0), 0.00001);"
       ]
      },
      {
       "output_type": "stream",
       "stream": "stdout",
       "text": [
        "\n",
        "CHECK_CLOSE(-0.0918355581058773, integrator.kineticIntegral(0,0,0,1,0,1), 0.00001);"
       ]
      },
      {
       "output_type": "stream",
       "stream": "stdout",
       "text": [
        "\n",
        "CHECK_CLOSE(-0.0142503452233260, integrator.kineticIntegral(0,0,0,1,1,0), 0.00001);"
       ]
      },
      {
       "output_type": "stream",
       "stream": "stdout",
       "text": [
        "\n",
        "CHECK_CLOSE(-0.00917293898306074, integrator.kineticIntegral(0,0,0,1,1,1), 0.00001);"
       ]
      },
      {
       "output_type": "stream",
       "stream": "stdout",
       "text": [
        "\n",
        "CHECK_CLOSE(0.251402082662018, integrator.kineticIntegral(0,0,1,0,0,1), 0.00001);"
       ]
      },
      {
       "output_type": "stream",
       "stream": "stdout",
       "text": [
        "\n",
        "CHECK_CLOSE(0.0495912013771734, integrator.kineticIntegral(0,0,1,0,1,0), 0.00001);"
       ]
      },
      {
       "output_type": "stream",
       "stream": "stdout",
       "text": [
        "\n",
        "CHECK_CLOSE(0.0176714824377215, integrator.kineticIntegral(0,0,1,0,1,1), 0.00001);"
       ]
      },
      {
       "output_type": "stream",
       "stream": "stdout",
       "text": [
        "\n",
        "CHECK_CLOSE(0.137753337158815, integrator.kineticIntegral(0,0,1,1,0,0), 0.00001);"
       ]
      },
      {
       "output_type": "stream",
       "stream": "stdout",
       "text": [
        "\n",
        "CHECK_CLOSE(0.0490874512158928, integrator.kineticIntegral(0,0,1,1,0,1), 0.00001);"
       ]
      },
      {
       "output_type": "stream",
       "stream": "stdout",
       "text": [
        "\n",
        "CHECK_CLOSE(0.0137594084745900, integrator.kineticIntegral(0,0,1,1,1,0), 0.00001);"
       ]
      },
      {
       "output_type": "stream",
       "stream": "stdout",
       "text": [
        "\n",
        "CHECK_CLOSE(-0.0551617848828804, integrator.kineticIntegral(0,0,1,1,1,1), 0.00001);"
       ]
      },
      {
       "output_type": "stream",
       "stream": "stdout",
       "text": [
        "\n",
        "CHECK_CLOSE(-0.0604904731258242, integrator.kineticIntegral(0,1,0,0,1,0), 0.00001);"
       ]
      },
      {
       "output_type": "stream",
       "stream": "stdout",
       "text": [
        "\n",
        "CHECK_CLOSE(-0.0868821710550227, integrator.kineticIntegral(0,1,0,0,1,1), 0.00001);"
       ]
      },
      {
       "output_type": "stream",
       "stream": "stdout",
       "text": [
        "\n",
        "CHECK_CLOSE(0.0213755178349884, integrator.kineticIntegral(0,1,0,1,0,0), 0.00001);"
       ]
      },
      {
       "output_type": "stream",
       "stream": "stdout",
       "text": [
        "\n",
        "CHECK_CLOSE(0.0137594084745909, integrator.kineticIntegral(0,1,0,1,0,1), 0.00001);"
       ]
      },
      {
       "output_type": "stream",
       "stream": "stdout",
       "text": [
        "\n",
        "CHECK_CLOSE(-0.0374492116616455, integrator.kineticIntegral(0,1,0,1,1,0), 0.00001);"
       ]
      },
      {
       "output_type": "stream",
       "stream": "stdout",
       "text": [
        "\n",
        "CHECK_CLOSE(-0.0334264444581330, integrator.kineticIntegral(0,1,0,1,1,1), 0.00001);"
       ]
      },
      {
       "output_type": "stream",
       "stream": "stdout",
       "text": [
        "\n",
        "CHECK_CLOSE(0.0788748150526478, integrator.kineticIntegral(0,1,1,0,1,1), 0.00001);"
       ]
      },
      {
       "output_type": "stream",
       "stream": "stdout",
       "text": [
        "\n",
        "CHECK_CLOSE(-0.0206391127118871, integrator.kineticIntegral(0,1,1,1,0,0), 0.00001);"
       ]
      },
      {
       "output_type": "stream",
       "stream": "stdout",
       "text": [
        "\n",
        "CHECK_CLOSE(0.0827426773243232, integrator.kineticIntegral(0,1,1,1,0,1), 0.00001);"
       ]
      },
      {
       "output_type": "stream",
       "stream": "stdout",
       "text": [
        "\n",
        "CHECK_CLOSE(0.0501396666872052, integrator.kineticIntegral(0,1,1,1,1,0), 0.00001);"
       ]
      },
      {
       "output_type": "stream",
       "stream": "stdout",
       "text": [
        "\n",
        "CHECK_CLOSE(-0.0841098520403308, integrator.kineticIntegral(0,1,1,1,1,1), 0.00001);"
       ]
      },
      {
       "output_type": "stream",
       "stream": "stdout",
       "text": [
        "\n",
        "CHECK_CLOSE(-0.00880922111589684, integrator.kineticIntegral(1,0,0,1,0,0), 0.00001);"
       ]
      },
      {
       "output_type": "stream",
       "stream": "stdout",
       "text": [
        "\n",
        "CHECK_CLOSE(-0.0536149790097897, integrator.kineticIntegral(1,0,0,1,0,1), 0.00001);"
       ]
      },
      {
       "output_type": "stream",
       "stream": "stdout",
       "text": [
        "\n",
        "CHECK_CLOSE(-0.00831956570841543, integrator.kineticIntegral(1,0,0,1,1,0), 0.00001);"
       ]
      },
      {
       "output_type": "stream",
       "stream": "stdout",
       "text": [
        "\n",
        "CHECK_CLOSE(-0.0312453234110528, integrator.kineticIntegral(1,0,0,1,1,1), 0.00001);"
       ]
      },
      {
       "output_type": "stream",
       "stream": "stdout",
       "text": [
        "\n",
        "CHECK_CLOSE(0.278928221561243, integrator.kineticIntegral(1,0,1,1,0,1), 0.00001);"
       ]
      },
      {
       "output_type": "stream",
       "stream": "stdout",
       "text": [
        "\n",
        "CHECK_CLOSE(0.0468679851165772, integrator.kineticIntegral(1,0,1,1,1,0), 0.00001);"
       ]
      },
      {
       "output_type": "stream",
       "stream": "stdout",
       "text": [
        "\n",
        "CHECK_CLOSE(0.136830793422341, integrator.kineticIntegral(1,0,1,1,1,1), 0.00001);"
       ]
      },
      {
       "output_type": "stream",
       "stream": "stdout",
       "text": [
        "\n",
        "CHECK_CLOSE(-0.0158372863654391, integrator.kineticIntegral(1,1,0,1,1,0), 0.00001);"
       ]
      },
      {
       "output_type": "stream",
       "stream": "stdout",
       "text": [
        "\n",
        "CHECK_CLOSE(-0.0634703676662633, integrator.kineticIntegral(1,1,0,1,1,1), 0.00001);"
       ]
      },
      {
       "output_type": "stream",
       "stream": "stdout",
       "text": [
        "\n",
        "CHECK_CLOSE(0.286531926659635, integrator.kineticIntegral(1,1,1,1,1,1), 0.00001);"
       ]
      },
      {
       "output_type": "stream",
       "stream": "stdout",
       "text": [
        "\n"
       ]
      }
     ],
     "prompt_number": 42
    },
    {
     "cell_type": "code",
     "collapsed": false,
     "input": [
      "a = 0.2\n",
      "b = 0.3\n",
      "A = array([1.2,2.3,3.4])\n",
      "B = array([-1.3,1.4,-2.4])\n",
      "r = array([x, y, z])\n",
      "iA, jA, kA = 0,0,0\n",
      "iB, jB, kB = 0,0,1\n",
      "Gb = G(iB,jB,kB,b,r,B)\n",
      "kineticProduct = -0.5 * G(iA,jA,kA,a,r,A) * (diff(Gb, x, x) + diff(Gb, y, y) + diff(Gb, z, z))\n",
      "result = N(integrate(kineticProduct, (x,-oo, oo), (y,-oo,oo), (z,-oo,oo)))\n",
      "result"
     ],
     "language": "python",
     "metadata": {},
     "outputs": [
      {
       "latex": [
        "$$-0.158190730147696$$"
       ],
       "metadata": {},
       "output_type": "pyout",
       "png": "[encoded data removed]",
       "prompt_number": 19,
       "text": [
        "-0.158190730147696"
       ]
      }
     ],
     "prompt_number": 19
    },
    {
     "cell_type": "code",
     "collapsed": false,
     "input": [
      "a = 0.2\n",
      "b = 0.3\n",
      "A = array([1.2,2.3,3.4])\n",
      "B = array([-1.3,1.4,-2.4])\n",
      "r = array([x, y, z])\n",
      "iA, jA, kA = 0,0,1\n",
      "iB, jB, kB = 0,0,0\n",
      "Gb = G(iB,jB,kB,b,r,B)\n",
      "kineticProduct = -0.5 * G(iA,jA,kA,a,r,A) * (diff(Gb, x, x) + diff(Gb, y, y) + diff(Gb, z, z))\n",
      "result = N(integrate(kineticProduct, (x,-oo, oo), (y,-oo,oo), (z,-oo,oo)))\n",
      "result"
     ],
     "language": "python",
     "metadata": {},
     "outputs": [
      {
       "latex": [
        "$$0.237286095221543$$"
       ],
       "metadata": {},
       "output_type": "pyout",
       "png": "[encoded data removed]",
       "prompt_number": 20,
       "text": [
        "0.237286095221543"
       ]
      }
     ],
     "prompt_number": 20
    },
    {
     "cell_type": "code",
     "collapsed": false,
     "input": [
      "a = 0.2\n",
      "b = 0.3\n",
      "A = array([1.2,2.3,3.4])\n",
      "B = array([-1.3,1.4,-2.4])\n",
      "r = array([x, y, z])\n",
      "iA, jA, kA = 0,0,0\n",
      "iB, jB, kB = 0,0,2\n",
      "Gb = G(iB,jB,kB,b,r,B)\n",
      "kineticProduct = -0.5 * G(iA,jA,kA,a,r,A) * (diff(Gb, x, x) + diff(Gb, y, y) + diff(Gb, z, z))\n",
      "result = N(integrate(kineticProduct, (x,-oo, oo), (y,-oo,oo), (z,-oo,oo)))\n",
      "result"
     ],
     "language": "python",
     "metadata": {},
     "outputs": [
      {
       "latex": [
        "$$-0.328913099784411$$"
       ],
       "metadata": {},
       "output_type": "pyout",
       "png": "[encoded data removed]",
       "prompt_number": 22,
       "text": [
        "-0.328913099784411"
       ]
      }
     ],
     "prompt_number": 22
    },
    {
     "cell_type": "code",
     "collapsed": false,
     "input": [
      "a = 0.2\n",
      "b = 0.3\n",
      "A = array([1.2,2.3,3.4])\n",
      "B = array([-1.3,1.4,-2.4])\n",
      "r = array([x, y, z])\n",
      "iA, jA, kA = 0,0,0\n",
      "iB, jB, kB = 1,0,0\n",
      "Gb = G(iA,jA,kA,a,r,A)\n",
      "Ga = G(iB,jB,kB,b,r,B)\n",
      "kineticProduct = -0.5 * Ga * (diff(Gb, x, x) + diff(Gb, y, y) + diff(Gb, z, z))\n",
      "result = N(integrate(kineticProduct, (x,-oo, oo), (y,-oo,oo), (z,-oo,oo)))\n",
      "result"
     ],
     "language": "python",
     "metadata": {},
     "outputs": [
      {
       "latex": [
        "$$-0.0681856595464204$$"
       ],
       "metadata": {},
       "output_type": "pyout",
       "png": "[encoded data removed]",
       "prompt_number": 36,
       "text": [
        "-0.0681856595464204"
       ]
      }
     ],
     "prompt_number": 36
    },
    {
     "cell_type": "code",
     "collapsed": false,
     "input": [
      "a = 0.2\n",
      "b = 0.3\n",
      "A = array([1.2,2.3,3.4])\n",
      "B = array([-1.3,1.4,-2.4])\n",
      "r = array([x, y, z])\n",
      "iA, jA, kA = 0,0,0\n",
      "iB, jB, kB = 1,0,0\n",
      "Ga = G(iA,jA,kA,a,r,A)\n",
      "Gb = G(iB,jB,kB,b,r,B)\n",
      "#kineticProduct = -0.5 * Ga * (diff(Gb, x, x) + diff(Gb, y, y) + diff(Gb, z, z))\n",
      "kineticProduct = 0.5 * ((diff(Ga,x) * diff(Gb, x)) + (diff(Ga, y) * diff(Gb, y)) + (diff(Ga, z)*diff(Gb, z)))\n",
      "result = N(integrate(kineticProduct, (x,-oo, oo), (y,-oo,oo), (z,-oo,oo)))\n",
      "result"
     ],
     "language": "python",
     "metadata": {},
     "outputs": [
      {
       "latex": [
        "$$-0.0681856595464205$$"
       ],
       "metadata": {},
       "output_type": "pyout",
       "png": "[encoded data removed]",
       "prompt_number": 34,
       "text": [
        "-0.0681856595464205"
       ]
      }
     ],
     "prompt_number": 34
    },
    {
     "cell_type": "heading",
     "level": 2,
     "metadata": {},
     "source": [
      "Core Coulomb integrals"
     ]
    },
    {
     "cell_type": "code",
     "collapsed": false,
     "input": [
      "from numpy import *\n",
      "from itertools import product, combinations_with_replacement\n",
      "from IPython.display import display\n",
      "from scipy.integrate import tplquad\n",
      "combos = []\n",
      "a = 0.2\n",
      "b = 0.3\n",
      "A = array([1.2,2.3,3.4])\n",
      "B = array([-1.3,1.4,-2.4])\n",
      "C = array([2.3,0.9,3.2])\n",
      "def G(i,j,k,a,r,A):\n",
      "    rA = r - A\n",
      "    xA = rA[0]\n",
      "    yA = rA[1]\n",
      "    zA = rA[2]\n",
      "    rA2 = dot(rA,rA)\n",
      "    return xA**i * yA**j * zA**k * exp(-a * rA2)\n",
      "\n",
      "def coreProduct(x,y,z, iA, jA, kA, a, A, iB, jB, kB, b, B,C):\n",
      "    r = array([x, y, z])\n",
      "    rC_vec = r - C\n",
      "    rC = sqrt(dot(rC_vec, rC_vec))\n",
      "    #if rC < 1e-6:\n",
      "    #    return 0\n",
      "    #else:\n",
      "    return G(iA,jA,kA,a,r,A) * (1/rC) * G(iB,jB,kB,b,r,B)\n",
      "    \n",
      "#for combo in product(range(1), repeat=3):\n",
      "#    combos.append(combo)\n",
      "#for combo2 in combinations_with_replacement(combos, 2):\n",
      "iA, jA, kA = 1,1,1\n",
      "iB, jB, kB = 0,1,2\n",
      "theCoreProduct = coreProduct(2,2,1,iA,jA,kA,a,A,iB,jB,kB,b,B,C)\n",
      "limit = 10\n",
      "\n",
      "#rint theCoreProduct\n",
      "result = tplquad(coreProduct, \n",
      "                 -limit, limit, \n",
      "                 lambda y: -limit, lambda y: limit, \n",
      "                 lambda y,z: -limit, lambda y,z: limit, \n",
      "                 args=(iA,jA,kA,a,A,iB,jB,kB,b,B,C))\n",
      "print result\n",
      "\n",
      "#theCoreProduct2 = inty(1,1,iA,jA,kA,a,A,iB,jB,kB,b,B,C)\n",
      "#print theCoreProduct2\n",
      "#theCoreProduct3 = intz(1,iA,jA,kA,a,A,iB,jB,kB,b,B,C)\n",
      "#print theCoreProduct3\n",
      "#theCoreProduct4 = intall(iA,jA,kA,a,A,iB,jB,kB,b,B,C)\n",
      "#print theCoreProduct4\n",
      "#result = scipy.integrate.quad(G, 0, 4.5)\n",
      "#print result\n",
      "#print \"CHECK_CLOSE(integrator.coreIntegral(\" \\\n",
      "#     + str(combo2[0][0]) + \",\" + str(combo2[0][1]) + \",\" + str(combo2[0][2]) + \",\" \\\n",
      "#      + str(combo2[1][0]) + \",\" + str(combo2[1][1]) + \",\" + str(combo2[1][2]) + \"), \" + str(result) \\\n",
      "#        + \", 0.00001);\""
     ],
     "language": "python",
     "metadata": {},
     "outputs": [
      {
       "output_type": "stream",
       "stream": "stdout",
       "text": [
        "(0.5444239388116785, 7.979434138099056e-09)\n"
       ]
      }
     ],
     "prompt_number": 43
    },
    {
     "cell_type": "code",
     "collapsed": false,
     "input": [
      "from scipy.integrate import quad\n",
      "def integrand(x,y,z):\n",
      "    return x*y*z\n",
      "\n",
      "def inty(y,z):\n",
      "    return quad(integrand, 0, 5, args=(y,z))[0]\n",
      "\n",
      "def intz(z):\n",
      "    return quad(inty, 0, 5, args=(z))[0]\n",
      "\n",
      "#quad(intz, 0, 5)\n",
      "intz(1)"
     ],
     "language": "python",
     "metadata": {},
     "outputs": [
      {
       "latex": [
        "$$156.25$$"
       ],
       "metadata": {},
       "output_type": "pyout",
       "png": "[encoded data removed]",
       "prompt_number": 50,
       "text": [
        "156.25"
       ]
      }
     ],
     "prompt_number": 50
    },
    {
     "cell_type": "code",
     "collapsed": false,
     "input": [
      "from scipy.integrate import dblquad\n",
      "def integrand(x,y):\n",
      "    return x*y\n",
      "\n",
      "#quad(intz, 0, 5)\n",
      "dblquad(integrand, 0, 5, lambda y: 0, lambda y: 5)"
     ],
     "language": "python",
     "metadata": {},
     "outputs": [
      {
       "latex": [
        "$$\\begin{pmatrix}156.25, & 1.73472347598e-12\\end{pmatrix}$$"
       ],
       "metadata": {},
       "output_type": "pyout",
       "png": "[encoded data removed]",
       "prompt_number": 69,
       "text": [
        "(156.25, 1.73472347598e-12)"
       ]
      }
     ],
     "prompt_number": 69
    },
    {
     "cell_type": "code",
     "collapsed": false,
     "input": [
      "from scipy.integrate import tplquad\n",
      "def integrand(x,y,z):\n",
      "    return x*y*1\n",
      "\n",
      "#quad(intz, 0, 5)\n",
      "tplquad(integrand, 0, 5, lambda y: 0, lambda y: 5, lambda y,z: 0, lambda y,z: 5)"
     ],
     "language": "python",
     "metadata": {},
     "outputs": [
      {
       "metadata": {},
       "output_type": "pyout",
       "prompt_number": 1,
       "text": [
        "(781.2499999999998, 8.673617379884032e-12)"
       ]
      }
     ],
     "prompt_number": 1
    },
    {
     "cell_type": "code",
     "collapsed": false,
     "input": [
      "tplquad?"
     ],
     "language": "python",
     "metadata": {},
     "outputs": [],
     "prompt_number": 3
    },
    {
     "cell_type": "heading",
     "level": 2,
     "metadata": {},
     "source": [
      "Boys function"
     ]
    },
    {
     "cell_type": "code",
     "collapsed": false,
     "input": [
      "from scipy.integrate import trapz, quad"
     ],
     "language": "python",
     "metadata": {},
     "outputs": [],
     "prompt_number": 14
    },
    {
     "cell_type": "code",
     "collapsed": false,
     "input": [
      "def boys_integrand(t, x):\n",
      "    return exp(-x*t**2)\n",
      "quad(boys_integrand, 0, 1, args=(0.2))"
     ],
     "language": "python",
     "metadata": {},
     "outputs": [
      {
       "latex": [
        "$$\\begin{pmatrix}0.937150028798, & 1.0404455395e-14\\end{pmatrix}$$"
       ],
       "metadata": {},
       "output_type": "pyout",
       "prompt_number": 21,
       "text": [
        "(0.937150028798, 1.0404455395e-14)"
       ]
      }
     ],
     "prompt_number": 21
    },
    {
     "cell_type": "code",
     "collapsed": false,
     "input": [
      "from sympy.abc import *\n",
      "from sympy import *"
     ],
     "language": "python",
     "metadata": {},
     "outputs": [],
     "prompt_number": 16
    },
    {
     "cell_type": "code",
     "collapsed": false,
     "input": [
      "N(integrate(exp(-0.01*t**2), (t, 0, 1)))"
     ],
     "language": "python",
     "metadata": {},
     "outputs": [
      {
       "latex": [
        "$$0.996676642903363$$"
       ],
       "metadata": {},
       "output_type": "pyout",
       "png": "[encoded data removed]",
       "prompt_number": 17,
       "text": [
        "0.996676642903363"
       ]
      }
     ],
     "prompt_number": 17
    },
    {
     "cell_type": "code",
     "collapsed": false,
     "input": [],
     "language": "python",
     "metadata": {},
     "outputs": []
    }
   ],
   "metadata": {}
  }
 ]
}