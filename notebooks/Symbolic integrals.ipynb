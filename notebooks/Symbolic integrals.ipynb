{
 "metadata": {
  "name": ""
 },
 "nbformat": 3,
 "nbformat_minor": 0,
 "worksheets": [
  {
   "cells": [
    {
     "cell_type": "code",
     "collapsed": false,
     "input": [
      "from numpy import array, dot\n",
      "from sympy.abc import *\n",
      "from sympy import *\n",
      "import sympy\n",
      "print sympy.__version__\n",
      "init_printing(use_latex=True)"
     ],
     "language": "python",
     "metadata": {},
     "outputs": [
      {
       "output_type": "stream",
       "stream": "stdout",
       "text": [
        "0.7.3\n"
       ]
      }
     ],
     "prompt_number": 1
    },
    {
     "cell_type": "code",
     "collapsed": false,
     "input": [
      "def G(i,j,k,a,r,A):\n",
      "    rA = r - A\n",
      "    xA = rA[0]\n",
      "    yA = rA[1]\n",
      "    zA = rA[2]\n",
      "    rA2 = dot(rA,rA)\n",
      "    return xA**i * yA**j * zA**k * exp(-a * rA2)\n",
      "Ax, Ay, Az = symbols(\"A_x A_y A_z\")\n",
      "r = array([x, y, z])\n",
      "A = array([Ax, Ay, Az])\n",
      "Gz = G(2,3,4,0.6,r,A)\n",
      "diff(Gz, x, x)"
     ],
     "language": "python",
     "metadata": {},
     "outputs": [
      {
       "latex": [
        "$$\\left(A_{y} - y\\right)^{3} \\left(A_{z} - z\\right)^{4} \\left(- \\left(A_{x} - x\\right)^{2} \\left(1.2 A_{x} - 1.2 x\\right)^{2} + 1.2 \\left(A_{x} - x\\right)^{2} + 4 \\left(A_{x} - x\\right) \\left(1.2 A_{x} - 1.2 x\\right) - 2\\right) e^{- 0.6 \\left(A_{x} - x\\right)^{2} - 0.6 \\left(A_{y} - y\\right)^{2} - 0.6 \\left(A_{z} - z\\right)^{2}}$$"
       ],
       "metadata": {},
       "output_type": "pyout",
       "png": "[encoded data removed]",
       "prompt_number": 33,
       "text": [
        "                                                                              \n",
        "         3          4 \u239b          2                 2               2          \n",
        "(A_y - y) \u22c5(A_z - z) \u22c5\u239d- (A\u2093 - x) \u22c5(1.2\u22c5A\u2093 - 1.2\u22c5x)  + 1.2\u22c5(A\u2093 - x)  + 4\u22c5(A\u2093 -\n",
        "\n",
        "                                         2                2                2\n",
        "                        \u239e  - 0.6\u22c5(A\u2093 - x)  - 0.6\u22c5(A_y - y)  - 0.6\u22c5(A_z - z) \n",
        " x)\u22c5(1.2\u22c5A\u2093 - 1.2\u22c5x) - 2\u23a0\u22c5\u212f                                                 "
       ]
      }
     ],
     "prompt_number": 33
    },
    {
     "cell_type": "code",
     "collapsed": false,
     "input": [
      "r = array([x, y, z])\n",
      "a,i,j,k = symbols(\"a i j k\")\n",
      "Ax, Ay, Az = symbols(\"A_x A_y A_z\")\n",
      "A = array([Ax, Ay, Az])\n",
      "Bx, By, Bz = symbols(\"B_x B_y B_z\")\n",
      "B = array([Bx, By, Bz])"
     ],
     "language": "python",
     "metadata": {},
     "outputs": [],
     "prompt_number": 3
    },
    {
     "cell_type": "code",
     "collapsed": false,
     "input": [
      "product = G(i,k,m,a,r,A) * G(j,l,n,b,r,B)\n",
      "product"
     ],
     "language": "python",
     "metadata": {},
     "outputs": [
      {
       "latex": [
        "$$\\left(- A_{x} + x\\right)^{i} \\left(- A_{y} + y\\right)^{k} \\left(- A_{z} + z\\right)^{m} \\left(- B_{x} + x\\right)^{j} \\left(- B_{y} + y\\right)^{l} \\left(- B_{z} + z\\right)^{n} e^{- a \\left(\\left(- A_{x} + x\\right)^{2} + \\left(- A_{y} + y\\right)^{2} + \\left(- A_{z} + z\\right)^{2}\\right)} e^{- b \\left(\\left(- B_{x} + x\\right)^{2} + \\left(- B_{y} + y\\right)^{2} + \\left(- B_{z} + z\\right)^{2}\\right)}$$"
       ],
       "metadata": {},
       "output_type": "pyout",
       "png": "[encoded data removed]",
       "prompt_number": 4,
       "text": [
        "                                                                          \u239b   \n",
        "         i           k           m          j           l           n  -a\u22c5\u239d(-A\n",
        "(-A\u2093 + x) \u22c5(-A_y + y) \u22c5(-A_z + z) \u22c5(-B\u2093 + x) \u22c5(-B_y + y) \u22c5(-B_z + z) \u22c5\u212f       \n",
        "\n",
        "      2             2             2\u239e     \u239b         2             2            \n",
        "\u2093 + x)  + (-A_y + y)  + (-A_z + z) \u23a0  -b\u22c5\u239d(-B\u2093 + x)  + (-B_y + y)  + (-B_z + z\n",
        "                                    \u22c5\u212f                                        \n",
        "\n",
        " 2\u239e\n",
        ") \u23a0\n",
        "   "
       ]
      }
     ],
     "prompt_number": 4
    },
    {
     "cell_type": "code",
     "collapsed": false,
     "input": [
      "product2 = G(0,0,0,0.2,r,array([1.2,2.3,3.4])) * G(0,0,0,0.3,r,array([0.0, 0.0, 0.0]))\n",
      "product2"
     ],
     "language": "python",
     "metadata": {},
     "outputs": [
      {
       "latex": [
        "$$e^{- 0.3 x^{2} - 0.3 y^{2} - 0.3 z^{2}} e^{- 0.2 \\left(x - 1.2\\right)^{2} - 0.2 \\left(y - 2.3\\right)^{2} - 0.2 \\left(z - 3.4\\right)^{2}}$$"
       ],
       "metadata": {},
       "output_type": "pyout",
       "png": "[encoded data removed]",
       "prompt_number": 5,
       "text": [
        "        2        2        2                 2                2                \n",
        " - 0.3\u22c5x  - 0.3\u22c5y  - 0.3\u22c5z   - 0.2\u22c5(x - 1.2)  - 0.2\u22c5(y - 2.3)  - 0.2\u22c5(z - 3.4)\n",
        "\u212f                          \u22c5\u212f                                                 \n",
        "\n",
        "2\n",
        " \n",
        " "
       ]
      }
     ],
     "prompt_number": 5
    },
    {
     "cell_type": "code",
     "collapsed": false,
     "input": [
      "N(integrate(integrate(integrate(product2, (x,-oo, oo)), (y,-oo,oo)), (z,-oo,oo)))"
     ],
     "language": "python",
     "metadata": {},
     "outputs": [
      {
       "latex": [
        "$$1.75420471368009$$"
       ],
       "metadata": {},
       "output_type": "pyout",
       "png": "[encoded data removed]",
       "prompt_number": 10,
       "text": [
        "1.75420471368009"
       ]
      }
     ],
     "prompt_number": 10
    },
    {
     "cell_type": "code",
     "collapsed": false,
     "input": [
      "product3 = G(1,0,0,0.2,r,array([1.2,2.3,3.4])) * G(0,1,0,0.3,r,array([0.0, 0.0, 0.0]))\n",
      "product3"
     ],
     "language": "python",
     "metadata": {},
     "outputs": [
      {
       "latex": [
        "$$y \\left(x - 1.2\\right) e^{- 0.3 x^{2} - 0.3 y^{2} - 0.3 z^{2}} e^{- 0.2 \\left(x - 1.2\\right)^{2} - 0.2 \\left(y - 2.3\\right)^{2} - 0.2 \\left(z - 3.4\\right)^{2}}$$"
       ],
       "metadata": {},
       "output_type": "pyout",
       "png": "[encoded data removed]",
       "prompt_number": 11,
       "text": [
        "                    2        2        2                 2                2    \n",
        "             - 0.3\u22c5x  - 0.3\u22c5y  - 0.3\u22c5z   - 0.2\u22c5(x - 1.2)  - 0.2\u22c5(y - 2.3)  - 0\n",
        "y\u22c5(x - 1.2)\u22c5\u212f                          \u22c5\u212f                                     \n",
        "\n",
        "            2\n",
        ".2\u22c5(z - 3.4) \n",
        "             "
       ]
      }
     ],
     "prompt_number": 11
    },
    {
     "cell_type": "code",
     "collapsed": false,
     "input": [
      "N(integrate(integrate(integrate(product3, (x,-oo, oo)), (y,-oo,oo)), (z,-oo,oo)))"
     ],
     "language": "python",
     "metadata": {},
     "outputs": [
      {
       "latex": [
        "$$-1.16198520234169$$"
       ],
       "metadata": {},
       "output_type": "pyout",
       "png": "[encoded data removed]",
       "prompt_number": 12,
       "text": [
        "-1.16198520234169"
       ]
      }
     ],
     "prompt_number": 12
    },
    {
     "cell_type": "code",
     "collapsed": false,
     "input": [
      "#product4 = G(1,0,3,0.2,r,array([1.2,2.3,3.4])) * G(2,1,0,0.3,r,array([0.0, 0.0, 0.0]))\n",
      "#product4"
     ],
     "language": "python",
     "metadata": {},
     "outputs": [],
     "prompt_number": 13
    },
    {
     "cell_type": "code",
     "collapsed": false,
     "input": [
      "#N(integrate(integrate(integrate(product4, (x,-oo, oo)), (y,-oo,oo)), (z,-oo,oo)))"
     ],
     "language": "python",
     "metadata": {},
     "outputs": [],
     "prompt_number": 14
    },
    {
     "cell_type": "heading",
     "level": 2,
     "metadata": {},
     "source": [
      "Overlap integrals"
     ]
    },
    {
     "cell_type": "code",
     "collapsed": false,
     "input": [
      "from itertools import product, combinations_with_replacement\n",
      "combos = []\n",
      "a = 0.2\n",
      "b = 0.3\n",
      "A = array([1.2,2.3,3.4])\n",
      "B = array([-1.3,1.4,-2.4])\n",
      "r = array([x, y, z])\n",
      "for combo in product(range(1), repeat=3):\n",
      "    combos.append(combo)\n",
      "for combo2 in combinations_with_replacement(combos, 2):\n",
      "    iA, jA, kA = combo2[0][0], combo2[0][1], combo2[0][2]\n",
      "    iB, jB, kB = combo2[1][0], combo2[1][1], combo2[1][2]\n",
      "    overlapProduct = G(iA,jA,kA,a,r,A) * G(iB,jB,kB,b,r,B)\n",
      "    result = N(integrate(integrate(integrate(overlapProduct, (x,-oo, oo)), (y,-oo,oo)), (z,-oo,oo)))\n",
      "    print \"CHECK_CLOSE(integrator.overlapIntegral(\" \\\n",
      "          + str(combo2[0][0]) + \",\" + str(combo2[0][1]) + \",\" + str(combo2[0][2]) + \",\" \\\n",
      "          + str(combo2[1][0]) + \",\" + str(combo2[1][1]) + \",\" + str(combo2[1][2]) + \"), \" + str(result) \\\n",
      "            + \", 0.00001);\""
     ],
     "language": "python",
     "metadata": {},
     "outputs": [
      {
       "output_type": "stream",
       "stream": "stdout",
       "text": [
        "CHECK_CLOSE(integrator.overlapIntegral(0,0,0,0,0,0), 0.119172363580852, 0.00001);\n"
       ]
      }
     ],
     "prompt_number": 15
    },
    {
     "cell_type": "heading",
     "level": 2,
     "metadata": {},
     "source": [
      "Kinetic integrals"
     ]
    },
    {
     "cell_type": "code",
     "collapsed": true,
     "input": [
      "from itertools import product, combinations_with_replacement\n",
      "combos = []\n",
      "a = 0.2\n",
      "b = 0.3\n",
      "A = array([1.2,2.3,3.4])\n",
      "B = array([-1.3,1.4,-2.4])\n",
      "r = array([x, y, z])\n",
      "for combo in product(range(1), repeat=3):\n",
      "    combos.append(combo)\n",
      "for combo2 in combinations_with_replacement(combos, 2):\n",
      "    iA, jA, kA = combo2[0][0], combo2[0][1], combo2[0][2]\n",
      "    iB, jB, kB = combo2[1][0], combo2[1][1], combo2[1][2]\n",
      "    Gb = G(iB,jB,kB,b,r,B)\n",
      "    kineticProduct = -0.5 * G(iA,jA,kA,a,r,A) * (diff(Gb, x, x) + diff(Gb, y, y) + diff(Gb, z, z))\n",
      "    result = N(integrate(integrate(integrate(kineticProduct, (x,-oo, oo)), (y,-oo,oo)), (z,-oo,oo)))\n",
      "    print \"CHECK_CLOSE(\" + str(result) + \", integrator.kineticIntegral(\" \\\n",
      "          + str(combo2[0][0]) + \",\" + str(combo2[0][1]) + \",\" + str(combo2[0][2]) + \",\" \\\n",
      "          + str(combo2[1][0]) + \",\" + str(combo2[1][1]) + \",\" + str(combo2[1][2]) + \")\" \\\n",
      "            + \", 0.00001);\""
     ],
     "language": "python",
     "metadata": {},
     "outputs": [
      {
       "ename": "KeyboardInterrupt",
       "evalue": "",
       "output_type": "pyerr",
       "traceback": [
        "\u001b[0;31m---------------------------------------------------------------------------\u001b[0m\n\u001b[0;31mKeyboardInterrupt\u001b[0m                         Traceback (most recent call last)",
        "\u001b[0;32m<ipython-input-21-e316793d8de4>\u001b[0m in \u001b[0;36m<module>\u001b[0;34m()\u001b[0m\n\u001b[1;32m     13\u001b[0m     \u001b[0mGb\u001b[0m \u001b[0;34m=\u001b[0m \u001b[0mG\u001b[0m\u001b[0;34m(\u001b[0m\u001b[0miB\u001b[0m\u001b[0;34m,\u001b[0m\u001b[0mjB\u001b[0m\u001b[0;34m,\u001b[0m\u001b[0mkB\u001b[0m\u001b[0;34m,\u001b[0m\u001b[0mb\u001b[0m\u001b[0;34m,\u001b[0m\u001b[0mr\u001b[0m\u001b[0;34m,\u001b[0m\u001b[0mB\u001b[0m\u001b[0;34m)\u001b[0m\u001b[0;34m\u001b[0m\u001b[0m\n\u001b[1;32m     14\u001b[0m     \u001b[0mkineticProduct\u001b[0m \u001b[0;34m=\u001b[0m \u001b[0;34m-\u001b[0m\u001b[0;36m0.5\u001b[0m \u001b[0;34m*\u001b[0m \u001b[0mG\u001b[0m\u001b[0;34m(\u001b[0m\u001b[0miA\u001b[0m\u001b[0;34m,\u001b[0m\u001b[0mjA\u001b[0m\u001b[0;34m,\u001b[0m\u001b[0mkA\u001b[0m\u001b[0;34m,\u001b[0m\u001b[0ma\u001b[0m\u001b[0;34m,\u001b[0m\u001b[0mr\u001b[0m\u001b[0;34m,\u001b[0m\u001b[0mA\u001b[0m\u001b[0;34m)\u001b[0m \u001b[0;34m*\u001b[0m \u001b[0;34m(\u001b[0m\u001b[0mdiff\u001b[0m\u001b[0;34m(\u001b[0m\u001b[0mGb\u001b[0m\u001b[0;34m,\u001b[0m \u001b[0mx\u001b[0m\u001b[0;34m,\u001b[0m \u001b[0mx\u001b[0m\u001b[0;34m)\u001b[0m \u001b[0;34m+\u001b[0m \u001b[0mdiff\u001b[0m\u001b[0;34m(\u001b[0m\u001b[0mGb\u001b[0m\u001b[0;34m,\u001b[0m \u001b[0my\u001b[0m\u001b[0;34m,\u001b[0m \u001b[0my\u001b[0m\u001b[0;34m)\u001b[0m \u001b[0;34m+\u001b[0m \u001b[0mdiff\u001b[0m\u001b[0;34m(\u001b[0m\u001b[0mGb\u001b[0m\u001b[0;34m,\u001b[0m \u001b[0mz\u001b[0m\u001b[0;34m,\u001b[0m \u001b[0mz\u001b[0m\u001b[0;34m)\u001b[0m\u001b[0;34m)\u001b[0m\u001b[0;34m\u001b[0m\u001b[0m\n\u001b[0;32m---> 15\u001b[0;31m     \u001b[0mresult\u001b[0m \u001b[0;34m=\u001b[0m \u001b[0mN\u001b[0m\u001b[0;34m(\u001b[0m\u001b[0mintegrate\u001b[0m\u001b[0;34m(\u001b[0m\u001b[0mintegrate\u001b[0m\u001b[0;34m(\u001b[0m\u001b[0mintegrate\u001b[0m\u001b[0;34m(\u001b[0m\u001b[0mkineticProduct\u001b[0m\u001b[0;34m,\u001b[0m \u001b[0;34m(\u001b[0m\u001b[0mx\u001b[0m\u001b[0;34m,\u001b[0m\u001b[0;34m-\u001b[0m\u001b[0moo\u001b[0m\u001b[0;34m,\u001b[0m \u001b[0moo\u001b[0m\u001b[0;34m)\u001b[0m\u001b[0;34m)\u001b[0m\u001b[0;34m,\u001b[0m \u001b[0;34m(\u001b[0m\u001b[0my\u001b[0m\u001b[0;34m,\u001b[0m\u001b[0;34m-\u001b[0m\u001b[0moo\u001b[0m\u001b[0;34m,\u001b[0m\u001b[0moo\u001b[0m\u001b[0;34m)\u001b[0m\u001b[0;34m)\u001b[0m\u001b[0;34m,\u001b[0m \u001b[0;34m(\u001b[0m\u001b[0mz\u001b[0m\u001b[0;34m,\u001b[0m\u001b[0;34m-\u001b[0m\u001b[0moo\u001b[0m\u001b[0;34m,\u001b[0m\u001b[0moo\u001b[0m\u001b[0;34m)\u001b[0m\u001b[0;34m)\u001b[0m\u001b[0;34m)\u001b[0m\u001b[0;34m\u001b[0m\u001b[0m\n\u001b[0m\u001b[1;32m     16\u001b[0m     \u001b[0;32mprint\u001b[0m \u001b[0;34m\"CHECK_CLOSE(\"\u001b[0m \u001b[0;34m+\u001b[0m \u001b[0mstr\u001b[0m\u001b[0;34m(\u001b[0m\u001b[0mresult\u001b[0m\u001b[0;34m)\u001b[0m \u001b[0;34m+\u001b[0m \u001b[0;34m\", integrator.kineticIntegral(\"\u001b[0m           \u001b[0;34m+\u001b[0m \u001b[0mstr\u001b[0m\u001b[0;34m(\u001b[0m\u001b[0mcombo2\u001b[0m\u001b[0;34m[\u001b[0m\u001b[0;36m0\u001b[0m\u001b[0;34m]\u001b[0m\u001b[0;34m[\u001b[0m\u001b[0;36m0\u001b[0m\u001b[0;34m]\u001b[0m\u001b[0;34m)\u001b[0m \u001b[0;34m+\u001b[0m \u001b[0;34m\",\"\u001b[0m \u001b[0;34m+\u001b[0m \u001b[0mstr\u001b[0m\u001b[0;34m(\u001b[0m\u001b[0mcombo2\u001b[0m\u001b[0;34m[\u001b[0m\u001b[0;36m0\u001b[0m\u001b[0;34m]\u001b[0m\u001b[0;34m[\u001b[0m\u001b[0;36m1\u001b[0m\u001b[0;34m]\u001b[0m\u001b[0;34m)\u001b[0m \u001b[0;34m+\u001b[0m \u001b[0;34m\",\"\u001b[0m \u001b[0;34m+\u001b[0m \u001b[0mstr\u001b[0m\u001b[0;34m(\u001b[0m\u001b[0mcombo2\u001b[0m\u001b[0;34m[\u001b[0m\u001b[0;36m0\u001b[0m\u001b[0;34m]\u001b[0m\u001b[0;34m[\u001b[0m\u001b[0;36m2\u001b[0m\u001b[0;34m]\u001b[0m\u001b[0;34m)\u001b[0m \u001b[0;34m+\u001b[0m \u001b[0;34m\",\"\u001b[0m           \u001b[0;34m+\u001b[0m \u001b[0mstr\u001b[0m\u001b[0;34m(\u001b[0m\u001b[0mcombo2\u001b[0m\u001b[0;34m[\u001b[0m\u001b[0;36m1\u001b[0m\u001b[0;34m]\u001b[0m\u001b[0;34m[\u001b[0m\u001b[0;36m0\u001b[0m\u001b[0;34m]\u001b[0m\u001b[0;34m)\u001b[0m \u001b[0;34m+\u001b[0m \u001b[0;34m\",\"\u001b[0m \u001b[0;34m+\u001b[0m \u001b[0mstr\u001b[0m\u001b[0;34m(\u001b[0m\u001b[0mcombo2\u001b[0m\u001b[0;34m[\u001b[0m\u001b[0;36m1\u001b[0m\u001b[0;34m]\u001b[0m\u001b[0;34m[\u001b[0m\u001b[0;36m1\u001b[0m\u001b[0;34m]\u001b[0m\u001b[0;34m)\u001b[0m \u001b[0;34m+\u001b[0m \u001b[0;34m\",\"\u001b[0m \u001b[0;34m+\u001b[0m \u001b[0mstr\u001b[0m\u001b[0;34m(\u001b[0m\u001b[0mcombo2\u001b[0m\u001b[0;34m[\u001b[0m\u001b[0;36m1\u001b[0m\u001b[0;34m]\u001b[0m\u001b[0;34m[\u001b[0m\u001b[0;36m2\u001b[0m\u001b[0;34m]\u001b[0m\u001b[0;34m)\u001b[0m \u001b[0;34m+\u001b[0m \u001b[0;34m\")\"\u001b[0m             \u001b[0;34m+\u001b[0m \u001b[0;34m\", 0.00001);\"\u001b[0m\u001b[0;34m\u001b[0m\u001b[0m\n",
        "\u001b[0;32m/home/svenni/.local/lib/python2.7/site-packages/sympy/utilities/decorator.pyc\u001b[0m in \u001b[0;36mthreaded_func\u001b[0;34m(expr, *args, **kwargs)\u001b[0m\n\u001b[1;32m     28\u001b[0m                                       func(expr.rhs, *args, **kwargs))\n\u001b[1;32m     29\u001b[0m             \u001b[0;32melse\u001b[0m\u001b[0;34m:\u001b[0m\u001b[0;34m\u001b[0m\u001b[0m\n\u001b[0;32m---> 30\u001b[0;31m                 \u001b[0;32mreturn\u001b[0m \u001b[0mfunc\u001b[0m\u001b[0;34m(\u001b[0m\u001b[0mexpr\u001b[0m\u001b[0;34m,\u001b[0m \u001b[0;34m*\u001b[0m\u001b[0margs\u001b[0m\u001b[0;34m,\u001b[0m \u001b[0;34m**\u001b[0m\u001b[0mkwargs\u001b[0m\u001b[0;34m)\u001b[0m\u001b[0;34m\u001b[0m\u001b[0m\n\u001b[0m\u001b[1;32m     31\u001b[0m \u001b[0;34m\u001b[0m\u001b[0m\n\u001b[1;32m     32\u001b[0m     \u001b[0;32mreturn\u001b[0m \u001b[0mthreaded_func\u001b[0m\u001b[0;34m\u001b[0m\u001b[0m\n",
        "\u001b[0;32m/home/svenni/.local/lib/python2.7/site-packages/sympy/integrals/integrals.pyc\u001b[0m in \u001b[0;36mintegrate\u001b[0;34m(*args, **kwargs)\u001b[0m\n\u001b[1;32m   1624\u001b[0m     \u001b[0;32mif\u001b[0m \u001b[0misinstance\u001b[0m\u001b[0;34m(\u001b[0m\u001b[0mintegral\u001b[0m\u001b[0;34m,\u001b[0m \u001b[0mIntegral\u001b[0m\u001b[0;34m)\u001b[0m\u001b[0;34m:\u001b[0m\u001b[0;34m\u001b[0m\u001b[0m\n\u001b[1;32m   1625\u001b[0m         return integral.doit(deep=False, meijerg=meijerg, conds=conds,\n\u001b[0;32m-> 1626\u001b[0;31m                              risch=risch, manual=manual)\n\u001b[0m\u001b[1;32m   1627\u001b[0m     \u001b[0;32melse\u001b[0m\u001b[0;34m:\u001b[0m\u001b[0;34m\u001b[0m\u001b[0m\n\u001b[1;32m   1628\u001b[0m         \u001b[0;32mreturn\u001b[0m \u001b[0mintegral\u001b[0m\u001b[0;34m\u001b[0m\u001b[0m\n",
        "\u001b[0;32m/home/svenni/.local/lib/python2.7/site-packages/sympy/integrals/integrals.pyc\u001b[0m in \u001b[0;36mdoit\u001b[0;34m(self, **hints)\u001b[0m\n\u001b[1;32m    870\u001b[0m                 \u001b[0;32mand\u001b[0m \u001b[0;32mnot\u001b[0m \u001b[0mfunction\u001b[0m\u001b[0;34m.\u001b[0m\u001b[0mis_Poly\u001b[0m \u001b[0;32mand\u001b[0m\u001b[0;31m \u001b[0m\u001b[0;31m\\\u001b[0m\u001b[0;34m\u001b[0m\u001b[0m\n\u001b[1;32m    871\u001b[0m                     \u001b[0;34m(\u001b[0m\u001b[0mxab\u001b[0m\u001b[0;34m[\u001b[0m\u001b[0;36m1\u001b[0m\u001b[0;34m]\u001b[0m\u001b[0;34m.\u001b[0m\u001b[0mhas\u001b[0m\u001b[0;34m(\u001b[0m\u001b[0moo\u001b[0m\u001b[0;34m,\u001b[0m \u001b[0;34m-\u001b[0m\u001b[0moo\u001b[0m\u001b[0;34m)\u001b[0m \u001b[0;32mor\u001b[0m \u001b[0mxab\u001b[0m\u001b[0;34m[\u001b[0m\u001b[0;36m2\u001b[0m\u001b[0;34m]\u001b[0m\u001b[0;34m.\u001b[0m\u001b[0mhas\u001b[0m\u001b[0;34m(\u001b[0m\u001b[0moo\u001b[0m\u001b[0;34m,\u001b[0m \u001b[0;34m-\u001b[0m\u001b[0moo\u001b[0m\u001b[0;34m)\u001b[0m\u001b[0;34m)\u001b[0m\u001b[0;34m:\u001b[0m\u001b[0;34m\u001b[0m\u001b[0m\n\u001b[0;32m--> 872\u001b[0;31m                 \u001b[0mret\u001b[0m \u001b[0;34m=\u001b[0m \u001b[0mtry_meijerg\u001b[0m\u001b[0;34m(\u001b[0m\u001b[0mfunction\u001b[0m\u001b[0;34m,\u001b[0m \u001b[0mxab\u001b[0m\u001b[0;34m)\u001b[0m\u001b[0;34m\u001b[0m\u001b[0m\n\u001b[0m\u001b[1;32m    873\u001b[0m                 \u001b[0;32mif\u001b[0m \u001b[0mret\u001b[0m \u001b[0;32mis\u001b[0m \u001b[0;32mnot\u001b[0m \u001b[0mNone\u001b[0m\u001b[0;34m:\u001b[0m\u001b[0;34m\u001b[0m\u001b[0m\n\u001b[1;32m    874\u001b[0m                     \u001b[0mfunction\u001b[0m \u001b[0;34m=\u001b[0m \u001b[0mret\u001b[0m\u001b[0;34m\u001b[0m\u001b[0m\n",
        "\u001b[0;32m/home/svenni/.local/lib/python2.7/site-packages/sympy/integrals/integrals.pyc\u001b[0m in \u001b[0;36mtry_meijerg\u001b[0;34m(function, xab)\u001b[0m\n\u001b[1;32m    847\u001b[0m                     \u001b[0mx\u001b[0m\u001b[0;34m,\u001b[0m \u001b[0ma\u001b[0m\u001b[0;34m,\u001b[0m \u001b[0mb\u001b[0m \u001b[0;34m=\u001b[0m \u001b[0mxab\u001b[0m\u001b[0;34m\u001b[0m\u001b[0m\n\u001b[1;32m    848\u001b[0m                     \u001b[0;32mtry\u001b[0m\u001b[0;34m:\u001b[0m\u001b[0;34m\u001b[0m\u001b[0m\n\u001b[0;32m--> 849\u001b[0;31m                         \u001b[0mres\u001b[0m \u001b[0;34m=\u001b[0m \u001b[0mmeijerint_definite\u001b[0m\u001b[0;34m(\u001b[0m\u001b[0mfunction\u001b[0m\u001b[0;34m,\u001b[0m \u001b[0mx\u001b[0m\u001b[0;34m,\u001b[0m \u001b[0ma\u001b[0m\u001b[0;34m,\u001b[0m \u001b[0mb\u001b[0m\u001b[0;34m)\u001b[0m\u001b[0;34m\u001b[0m\u001b[0m\n\u001b[0m\u001b[1;32m    850\u001b[0m                     \u001b[0;32mexcept\u001b[0m \u001b[0mNotImplementedError\u001b[0m\u001b[0;34m:\u001b[0m\u001b[0;34m\u001b[0m\u001b[0m\n\u001b[1;32m    851\u001b[0m                         \u001b[0;32mfrom\u001b[0m \u001b[0msympy\u001b[0m\u001b[0;34m.\u001b[0m\u001b[0mintegrals\u001b[0m\u001b[0;34m.\u001b[0m\u001b[0mmeijerint\u001b[0m \u001b[0;32mimport\u001b[0m \u001b[0m_debug\u001b[0m\u001b[0;34m\u001b[0m\u001b[0m\n",
        "\u001b[0;32m/home/svenni/.local/lib/python2.7/site-packages/sympy/integrals/meijerint.pyc\u001b[0m in \u001b[0;36mmeijerint_definite\u001b[0;34m(f, x, a, b)\u001b[0m\n\u001b[1;32m   1746\u001b[0m                 \u001b[0m_debug\u001b[0m\u001b[0;34m(\u001b[0m\u001b[0;34m'  But could not compute first integral.'\u001b[0m\u001b[0;34m)\u001b[0m\u001b[0;34m\u001b[0m\u001b[0m\n\u001b[1;32m   1747\u001b[0m                 \u001b[0;32mcontinue\u001b[0m\u001b[0;34m\u001b[0m\u001b[0m\n\u001b[0;32m-> 1748\u001b[0;31m             \u001b[0mres2\u001b[0m \u001b[0;34m=\u001b[0m \u001b[0m_meijerint_definite_2\u001b[0m\u001b[0;34m(\u001b[0m\u001b[0mf\u001b[0m\u001b[0;34m.\u001b[0m\u001b[0msubs\u001b[0m\u001b[0;34m(\u001b[0m\u001b[0mx\u001b[0m\u001b[0;34m,\u001b[0m \u001b[0mc\u001b[0m \u001b[0;34m-\u001b[0m \u001b[0mx\u001b[0m\u001b[0;34m)\u001b[0m\u001b[0;34m,\u001b[0m \u001b[0mx\u001b[0m\u001b[0;34m)\u001b[0m\u001b[0;34m\u001b[0m\u001b[0m\n\u001b[0m\u001b[1;32m   1749\u001b[0m             \u001b[0;32mif\u001b[0m \u001b[0mres2\u001b[0m \u001b[0;32mis\u001b[0m \u001b[0mNone\u001b[0m\u001b[0;34m:\u001b[0m\u001b[0;34m\u001b[0m\u001b[0m\n\u001b[1;32m   1750\u001b[0m                 \u001b[0m_debug\u001b[0m\u001b[0;34m(\u001b[0m\u001b[0;34m'  But could not compute second integral.'\u001b[0m\u001b[0;34m)\u001b[0m\u001b[0;34m\u001b[0m\u001b[0m\n",
        "\u001b[0;32m/home/svenni/.local/lib/python2.7/site-packages/sympy/integrals/meijerint.pyc\u001b[0m in \u001b[0;36m_meijerint_definite_2\u001b[0;34m(f, x)\u001b[0m\n\u001b[1;32m   1851\u001b[0m     \u001b[0;32mfor\u001b[0m \u001b[0mg\u001b[0m\u001b[0;34m,\u001b[0m \u001b[0mexplanation\u001b[0m \u001b[0;32min\u001b[0m \u001b[0m_guess_expansion\u001b[0m\u001b[0;34m(\u001b[0m\u001b[0mf\u001b[0m\u001b[0;34m,\u001b[0m \u001b[0mx\u001b[0m\u001b[0;34m)\u001b[0m\u001b[0;34m:\u001b[0m\u001b[0;34m\u001b[0m\u001b[0m\n\u001b[1;32m   1852\u001b[0m         \u001b[0m_debug\u001b[0m\u001b[0;34m(\u001b[0m\u001b[0;34m'Trying'\u001b[0m\u001b[0;34m,\u001b[0m \u001b[0mexplanation\u001b[0m\u001b[0;34m)\u001b[0m\u001b[0;34m\u001b[0m\u001b[0m\n\u001b[0;32m-> 1853\u001b[0;31m         \u001b[0mres\u001b[0m \u001b[0;34m=\u001b[0m \u001b[0m_meijerint_definite_3\u001b[0m\u001b[0;34m(\u001b[0m\u001b[0mg\u001b[0m\u001b[0;34m,\u001b[0m \u001b[0mx\u001b[0m\u001b[0;34m)\u001b[0m\u001b[0;34m\u001b[0m\u001b[0m\n\u001b[0m\u001b[1;32m   1854\u001b[0m         \u001b[0;32mif\u001b[0m \u001b[0mres\u001b[0m \u001b[0;32mis\u001b[0m \u001b[0;32mnot\u001b[0m \u001b[0mNone\u001b[0m \u001b[0;32mand\u001b[0m \u001b[0mres\u001b[0m\u001b[0;34m[\u001b[0m\u001b[0;36m1\u001b[0m\u001b[0;34m]\u001b[0m \u001b[0;32mis\u001b[0m \u001b[0;32mnot\u001b[0m \u001b[0mFalse\u001b[0m\u001b[0;34m:\u001b[0m\u001b[0;34m\u001b[0m\u001b[0m\n\u001b[1;32m   1855\u001b[0m             \u001b[0;32mreturn\u001b[0m \u001b[0mres\u001b[0m\u001b[0;34m\u001b[0m\u001b[0m\n",
        "\u001b[0;32m/home/svenni/.local/lib/python2.7/site-packages/sympy/integrals/meijerint.pyc\u001b[0m in \u001b[0;36m_meijerint_definite_3\u001b[0;34m(f, x)\u001b[0m\n\u001b[1;32m   1868\u001b[0m     \u001b[0;32mif\u001b[0m \u001b[0mf\u001b[0m\u001b[0;34m.\u001b[0m\u001b[0mis_Add\u001b[0m\u001b[0;34m:\u001b[0m\u001b[0;34m\u001b[0m\u001b[0m\n\u001b[1;32m   1869\u001b[0m         \u001b[0m_debug\u001b[0m\u001b[0;34m(\u001b[0m\u001b[0;34m'Expanding and evaluating all terms.'\u001b[0m\u001b[0;34m)\u001b[0m\u001b[0;34m\u001b[0m\u001b[0m\n\u001b[0;32m-> 1870\u001b[0;31m         \u001b[0mress\u001b[0m \u001b[0;34m=\u001b[0m \u001b[0;34m[\u001b[0m\u001b[0m_meijerint_definite_4\u001b[0m\u001b[0;34m(\u001b[0m\u001b[0mg\u001b[0m\u001b[0;34m,\u001b[0m \u001b[0mx\u001b[0m\u001b[0;34m)\u001b[0m \u001b[0;32mfor\u001b[0m \u001b[0mg\u001b[0m \u001b[0;32min\u001b[0m \u001b[0mf\u001b[0m\u001b[0;34m.\u001b[0m\u001b[0margs\u001b[0m\u001b[0;34m]\u001b[0m\u001b[0;34m\u001b[0m\u001b[0m\n\u001b[0m\u001b[1;32m   1871\u001b[0m         \u001b[0;32mif\u001b[0m \u001b[0mall\u001b[0m\u001b[0;34m(\u001b[0m\u001b[0mr\u001b[0m \u001b[0;32mis\u001b[0m \u001b[0;32mnot\u001b[0m \u001b[0mNone\u001b[0m \u001b[0;32mfor\u001b[0m \u001b[0mr\u001b[0m \u001b[0;32min\u001b[0m \u001b[0mress\u001b[0m\u001b[0;34m)\u001b[0m\u001b[0;34m:\u001b[0m\u001b[0;34m\u001b[0m\u001b[0m\n\u001b[1;32m   1872\u001b[0m             \u001b[0mconds\u001b[0m \u001b[0;34m=\u001b[0m \u001b[0;34m[\u001b[0m\u001b[0;34m]\u001b[0m\u001b[0;34m\u001b[0m\u001b[0m\n",
        "\u001b[0;32m/home/svenni/.local/lib/python2.7/site-packages/sympy/integrals/meijerint.pyc\u001b[0m in \u001b[0;36m_meijerint_definite_4\u001b[0;34m(f, x, only_double)\u001b[0m\n\u001b[1;32m   1928\u001b[0m                 \u001b[0;32mfor\u001b[0m \u001b[0mC2\u001b[0m\u001b[0;34m,\u001b[0m \u001b[0ms2\u001b[0m\u001b[0;34m,\u001b[0m \u001b[0mf2\u001b[0m \u001b[0;32min\u001b[0m \u001b[0mg2\u001b[0m\u001b[0;34m:\u001b[0m\u001b[0;34m\u001b[0m\u001b[0m\n\u001b[1;32m   1929\u001b[0m                     r = _rewrite_saxena(fac*C1*C2, po*x**(s1 + s2),\n\u001b[0;32m-> 1930\u001b[0;31m                                         f1, f2, x, full_pb)\n\u001b[0m\u001b[1;32m   1931\u001b[0m                     \u001b[0;32mif\u001b[0m \u001b[0mr\u001b[0m \u001b[0;32mis\u001b[0m \u001b[0mNone\u001b[0m\u001b[0;34m:\u001b[0m\u001b[0;34m\u001b[0m\u001b[0m\n\u001b[1;32m   1932\u001b[0m                         \u001b[0m_debug\u001b[0m\u001b[0;34m(\u001b[0m\u001b[0;34m'Non-rational exponents.'\u001b[0m\u001b[0;34m)\u001b[0m\u001b[0;34m\u001b[0m\u001b[0m\n",
        "\u001b[0;32m/home/svenni/.local/lib/python2.7/site-packages/sympy/integrals/meijerint.pyc\u001b[0m in \u001b[0;36m_rewrite_saxena\u001b[0;34m(fac, po, g1, g2, x, full_pb)\u001b[0m\n\u001b[1;32m    913\u001b[0m     \u001b[0mg2\u001b[0m \u001b[0;34m=\u001b[0m \u001b[0mmeijerg\u001b[0m\u001b[0;34m(\u001b[0m\u001b[0mg2\u001b[0m\u001b[0;34m.\u001b[0m\u001b[0man\u001b[0m\u001b[0;34m,\u001b[0m \u001b[0mg2\u001b[0m\u001b[0;34m.\u001b[0m\u001b[0maother\u001b[0m\u001b[0;34m,\u001b[0m \u001b[0mg2\u001b[0m\u001b[0;34m.\u001b[0m\u001b[0mbm\u001b[0m\u001b[0;34m,\u001b[0m \u001b[0mg2\u001b[0m\u001b[0;34m.\u001b[0m\u001b[0mbother\u001b[0m\u001b[0;34m,\u001b[0m \u001b[0ma2\u001b[0m\u001b[0;34m*\u001b[0m\u001b[0mx\u001b[0m\u001b[0;34m)\u001b[0m\u001b[0;34m\u001b[0m\u001b[0m\n\u001b[1;32m    914\u001b[0m \u001b[0;34m\u001b[0m\u001b[0m\n\u001b[0;32m--> 915\u001b[0;31m     \u001b[0;32mreturn\u001b[0m \u001b[0mpowdenest\u001b[0m\u001b[0;34m(\u001b[0m\u001b[0mfac\u001b[0m\u001b[0;34m,\u001b[0m \u001b[0mpolar\u001b[0m\u001b[0;34m=\u001b[0m\u001b[0mTrue\u001b[0m\u001b[0;34m)\u001b[0m\u001b[0;34m,\u001b[0m \u001b[0mg1\u001b[0m\u001b[0;34m,\u001b[0m \u001b[0mg2\u001b[0m\u001b[0;34m\u001b[0m\u001b[0m\n\u001b[0m\u001b[1;32m    916\u001b[0m \u001b[0;34m\u001b[0m\u001b[0m\n\u001b[1;32m    917\u001b[0m \u001b[0;34m\u001b[0m\u001b[0m\n",
        "\u001b[0;32m/home/svenni/.local/lib/python2.7/site-packages/sympy/simplify/simplify.pyc\u001b[0m in \u001b[0;36mpowdenest\u001b[0;34m(eq, force, polar)\u001b[0m\n\u001b[1;32m   2434\u001b[0m     \u001b[0;32mif\u001b[0m \u001b[0mpolar\u001b[0m\u001b[0;34m:\u001b[0m\u001b[0;34m\u001b[0m\u001b[0m\n\u001b[1;32m   2435\u001b[0m         \u001b[0meq\u001b[0m\u001b[0;34m,\u001b[0m \u001b[0mrep\u001b[0m \u001b[0;34m=\u001b[0m \u001b[0mpolarify\u001b[0m\u001b[0;34m(\u001b[0m\u001b[0meq\u001b[0m\u001b[0;34m)\u001b[0m\u001b[0;34m\u001b[0m\u001b[0m\n\u001b[0;32m-> 2436\u001b[0;31m         \u001b[0;32mreturn\u001b[0m \u001b[0munpolarify\u001b[0m\u001b[0;34m(\u001b[0m\u001b[0mpowdenest\u001b[0m\u001b[0;34m(\u001b[0m\u001b[0munpolarify\u001b[0m\u001b[0;34m(\u001b[0m\u001b[0meq\u001b[0m\u001b[0;34m,\u001b[0m \u001b[0mexponents_only\u001b[0m\u001b[0;34m=\u001b[0m\u001b[0mTrue\u001b[0m\u001b[0;34m)\u001b[0m\u001b[0;34m)\u001b[0m\u001b[0;34m,\u001b[0m \u001b[0mrep\u001b[0m\u001b[0;34m)\u001b[0m\u001b[0;34m\u001b[0m\u001b[0m\n\u001b[0m\u001b[1;32m   2437\u001b[0m \u001b[0;34m\u001b[0m\u001b[0m\n\u001b[1;32m   2438\u001b[0m     \u001b[0mnew\u001b[0m \u001b[0;34m=\u001b[0m \u001b[0mpowsimp\u001b[0m\u001b[0;34m(\u001b[0m\u001b[0msympify\u001b[0m\u001b[0;34m(\u001b[0m\u001b[0meq\u001b[0m\u001b[0;34m)\u001b[0m\u001b[0;34m)\u001b[0m\u001b[0;34m\u001b[0m\u001b[0m\n",
        "\u001b[0;32m/home/svenni/.local/lib/python2.7/site-packages/sympy/simplify/simplify.pyc\u001b[0m in \u001b[0;36munpolarify\u001b[0;34m(eq, subs, exponents_only)\u001b[0m\n\u001b[1;32m   2206\u001b[0m     \u001b[0meq\u001b[0m \u001b[0;34m=\u001b[0m \u001b[0msympify\u001b[0m\u001b[0;34m(\u001b[0m\u001b[0meq\u001b[0m\u001b[0;34m)\u001b[0m\u001b[0;34m\u001b[0m\u001b[0m\n\u001b[1;32m   2207\u001b[0m     \u001b[0;32mif\u001b[0m \u001b[0msubs\u001b[0m \u001b[0;34m!=\u001b[0m \u001b[0;34m{\u001b[0m\u001b[0;34m}\u001b[0m\u001b[0;34m:\u001b[0m\u001b[0;34m\u001b[0m\u001b[0m\n\u001b[0;32m-> 2208\u001b[0;31m         \u001b[0;32mreturn\u001b[0m \u001b[0munpolarify\u001b[0m\u001b[0;34m(\u001b[0m\u001b[0meq\u001b[0m\u001b[0;34m.\u001b[0m\u001b[0msubs\u001b[0m\u001b[0;34m(\u001b[0m\u001b[0msubs\u001b[0m\u001b[0;34m)\u001b[0m\u001b[0;34m)\u001b[0m\u001b[0;34m\u001b[0m\u001b[0m\n\u001b[0m\u001b[1;32m   2209\u001b[0m     \u001b[0mchanged\u001b[0m \u001b[0;34m=\u001b[0m \u001b[0mTrue\u001b[0m\u001b[0;34m\u001b[0m\u001b[0m\n\u001b[1;32m   2210\u001b[0m     \u001b[0mpause\u001b[0m \u001b[0;34m=\u001b[0m \u001b[0mFalse\u001b[0m\u001b[0;34m\u001b[0m\u001b[0m\n",
        "\u001b[0;32m/home/svenni/.local/lib/python2.7/site-packages/sympy/core/basic.pyc\u001b[0m in \u001b[0;36msubs\u001b[0;34m(self, *args, **kwargs)\u001b[0m\n\u001b[1;32m    903\u001b[0m             \u001b[0mrv\u001b[0m \u001b[0;34m=\u001b[0m \u001b[0mself\u001b[0m\u001b[0;34m\u001b[0m\u001b[0m\n\u001b[1;32m    904\u001b[0m             \u001b[0;32mfor\u001b[0m \u001b[0mold\u001b[0m\u001b[0;34m,\u001b[0m \u001b[0mnew\u001b[0m \u001b[0;32min\u001b[0m \u001b[0msequence\u001b[0m\u001b[0;34m:\u001b[0m\u001b[0;34m\u001b[0m\u001b[0m\n\u001b[0;32m--> 905\u001b[0;31m                 \u001b[0mrv\u001b[0m \u001b[0;34m=\u001b[0m \u001b[0mrv\u001b[0m\u001b[0;34m.\u001b[0m\u001b[0m_subs\u001b[0m\u001b[0;34m(\u001b[0m\u001b[0mold\u001b[0m\u001b[0;34m,\u001b[0m \u001b[0mnew\u001b[0m\u001b[0;34m,\u001b[0m \u001b[0;34m**\u001b[0m\u001b[0mkwargs\u001b[0m\u001b[0;34m)\u001b[0m\u001b[0;34m\u001b[0m\u001b[0m\n\u001b[0m\u001b[1;32m    906\u001b[0m                 \u001b[0;32mif\u001b[0m \u001b[0;32mnot\u001b[0m \u001b[0misinstance\u001b[0m\u001b[0;34m(\u001b[0m\u001b[0mrv\u001b[0m\u001b[0;34m,\u001b[0m \u001b[0mBasic\u001b[0m\u001b[0;34m)\u001b[0m\u001b[0;34m:\u001b[0m\u001b[0;34m\u001b[0m\u001b[0m\n\u001b[1;32m    907\u001b[0m                     \u001b[0;32mbreak\u001b[0m\u001b[0;34m\u001b[0m\u001b[0m\n",
        "\u001b[0;32m/home/svenni/.local/lib/python2.7/site-packages/sympy/core/cache.pyc\u001b[0m in \u001b[0;36mwrapper\u001b[0;34m(*args, **kw_args)\u001b[0m\n\u001b[1;32m     90\u001b[0m         \u001b[0;32mexcept\u001b[0m \u001b[0mKeyError\u001b[0m\u001b[0;34m:\u001b[0m\u001b[0;34m\u001b[0m\u001b[0m\n\u001b[1;32m     91\u001b[0m             \u001b[0;32mpass\u001b[0m\u001b[0;34m\u001b[0m\u001b[0m\n\u001b[0;32m---> 92\u001b[0;31m         \u001b[0mfunc_cache_it_cache\u001b[0m\u001b[0;34m[\u001b[0m\u001b[0mk\u001b[0m\u001b[0;34m]\u001b[0m \u001b[0;34m=\u001b[0m \u001b[0mr\u001b[0m \u001b[0;34m=\u001b[0m \u001b[0mfunc\u001b[0m\u001b[0;34m(\u001b[0m\u001b[0;34m*\u001b[0m\u001b[0margs\u001b[0m\u001b[0;34m,\u001b[0m \u001b[0;34m**\u001b[0m\u001b[0mkw_args\u001b[0m\u001b[0;34m)\u001b[0m\u001b[0;34m\u001b[0m\u001b[0m\n\u001b[0m\u001b[1;32m     93\u001b[0m         \u001b[0;32mreturn\u001b[0m \u001b[0mr\u001b[0m\u001b[0;34m\u001b[0m\u001b[0m\n\u001b[1;32m     94\u001b[0m     \u001b[0;32mreturn\u001b[0m \u001b[0mwrapper\u001b[0m\u001b[0;34m\u001b[0m\u001b[0m\n",
        "\u001b[0;32m/home/svenni/.local/lib/python2.7/site-packages/sympy/core/basic.pyc\u001b[0m in \u001b[0;36m_subs\u001b[0;34m(self, old, new, **hints)\u001b[0m\n\u001b[1;32m   1017\u001b[0m         \u001b[0mrv\u001b[0m \u001b[0;34m=\u001b[0m \u001b[0mself\u001b[0m\u001b[0;34m.\u001b[0m\u001b[0m_eval_subs\u001b[0m\u001b[0;34m(\u001b[0m\u001b[0mold\u001b[0m\u001b[0;34m,\u001b[0m \u001b[0mnew\u001b[0m\u001b[0;34m)\u001b[0m\u001b[0;34m\u001b[0m\u001b[0m\n\u001b[1;32m   1018\u001b[0m         \u001b[0;32mif\u001b[0m \u001b[0mrv\u001b[0m \u001b[0;32mis\u001b[0m \u001b[0mNone\u001b[0m\u001b[0;34m:\u001b[0m\u001b[0;34m\u001b[0m\u001b[0m\n\u001b[0;32m-> 1019\u001b[0;31m             \u001b[0mrv\u001b[0m \u001b[0;34m=\u001b[0m \u001b[0mfallback\u001b[0m\u001b[0;34m(\u001b[0m\u001b[0mself\u001b[0m\u001b[0;34m,\u001b[0m \u001b[0mold\u001b[0m\u001b[0;34m,\u001b[0m \u001b[0mnew\u001b[0m\u001b[0;34m)\u001b[0m\u001b[0;34m\u001b[0m\u001b[0m\n\u001b[0m\u001b[1;32m   1020\u001b[0m         \u001b[0;32mreturn\u001b[0m \u001b[0mrv\u001b[0m\u001b[0;34m\u001b[0m\u001b[0m\n\u001b[1;32m   1021\u001b[0m \u001b[0;34m\u001b[0m\u001b[0m\n",
        "\u001b[0;32m/home/svenni/.local/lib/python2.7/site-packages/sympy/core/basic.pyc\u001b[0m in \u001b[0;36mfallback\u001b[0;34m(self, old, new)\u001b[0m\n\u001b[1;32m    989\u001b[0m                 \u001b[0;32mif\u001b[0m \u001b[0;32mnot\u001b[0m \u001b[0mhasattr\u001b[0m\u001b[0;34m(\u001b[0m\u001b[0marg\u001b[0m\u001b[0;34m,\u001b[0m \u001b[0;34m'_eval_subs'\u001b[0m\u001b[0;34m)\u001b[0m\u001b[0;34m:\u001b[0m\u001b[0;34m\u001b[0m\u001b[0m\n\u001b[1;32m    990\u001b[0m                     \u001b[0;32mcontinue\u001b[0m\u001b[0;34m\u001b[0m\u001b[0m\n\u001b[0;32m--> 991\u001b[0;31m                 \u001b[0marg\u001b[0m \u001b[0;34m=\u001b[0m \u001b[0marg\u001b[0m\u001b[0;34m.\u001b[0m\u001b[0m_subs\u001b[0m\u001b[0;34m(\u001b[0m\u001b[0mold\u001b[0m\u001b[0;34m,\u001b[0m \u001b[0mnew\u001b[0m\u001b[0;34m,\u001b[0m \u001b[0;34m**\u001b[0m\u001b[0mhints\u001b[0m\u001b[0;34m)\u001b[0m\u001b[0;34m\u001b[0m\u001b[0m\n\u001b[0m\u001b[1;32m    992\u001b[0m                 \u001b[0;32mif\u001b[0m \u001b[0marg\u001b[0m \u001b[0;32mis\u001b[0m \u001b[0;32mnot\u001b[0m \u001b[0margs\u001b[0m\u001b[0;34m[\u001b[0m\u001b[0mi\u001b[0m\u001b[0;34m]\u001b[0m\u001b[0;34m:\u001b[0m\u001b[0;34m\u001b[0m\u001b[0m\n\u001b[1;32m    993\u001b[0m                     \u001b[0mhit\u001b[0m \u001b[0;34m=\u001b[0m \u001b[0mTrue\u001b[0m\u001b[0;34m\u001b[0m\u001b[0m\n",
        "\u001b[0;32m/home/svenni/.local/lib/python2.7/site-packages/sympy/core/cache.pyc\u001b[0m in \u001b[0;36mwrapper\u001b[0;34m(*args, **kw_args)\u001b[0m\n\u001b[1;32m     90\u001b[0m         \u001b[0;32mexcept\u001b[0m \u001b[0mKeyError\u001b[0m\u001b[0;34m:\u001b[0m\u001b[0;34m\u001b[0m\u001b[0m\n\u001b[1;32m     91\u001b[0m             \u001b[0;32mpass\u001b[0m\u001b[0;34m\u001b[0m\u001b[0m\n\u001b[0;32m---> 92\u001b[0;31m         \u001b[0mfunc_cache_it_cache\u001b[0m\u001b[0;34m[\u001b[0m\u001b[0mk\u001b[0m\u001b[0;34m]\u001b[0m \u001b[0;34m=\u001b[0m \u001b[0mr\u001b[0m \u001b[0;34m=\u001b[0m \u001b[0mfunc\u001b[0m\u001b[0;34m(\u001b[0m\u001b[0;34m*\u001b[0m\u001b[0margs\u001b[0m\u001b[0;34m,\u001b[0m \u001b[0;34m**\u001b[0m\u001b[0mkw_args\u001b[0m\u001b[0;34m)\u001b[0m\u001b[0;34m\u001b[0m\u001b[0m\n\u001b[0m\u001b[1;32m     93\u001b[0m         \u001b[0;32mreturn\u001b[0m \u001b[0mr\u001b[0m\u001b[0;34m\u001b[0m\u001b[0m\n\u001b[1;32m     94\u001b[0m     \u001b[0;32mreturn\u001b[0m \u001b[0mwrapper\u001b[0m\u001b[0;34m\u001b[0m\u001b[0m\n",
        "\u001b[0;32m/home/svenni/.local/lib/python2.7/site-packages/sympy/core/basic.pyc\u001b[0m in \u001b[0;36m_subs\u001b[0;34m(self, old, new, **hints)\u001b[0m\n\u001b[1;32m   1017\u001b[0m         \u001b[0mrv\u001b[0m \u001b[0;34m=\u001b[0m \u001b[0mself\u001b[0m\u001b[0;34m.\u001b[0m\u001b[0m_eval_subs\u001b[0m\u001b[0;34m(\u001b[0m\u001b[0mold\u001b[0m\u001b[0;34m,\u001b[0m \u001b[0mnew\u001b[0m\u001b[0;34m)\u001b[0m\u001b[0;34m\u001b[0m\u001b[0m\n\u001b[1;32m   1018\u001b[0m         \u001b[0;32mif\u001b[0m \u001b[0mrv\u001b[0m \u001b[0;32mis\u001b[0m \u001b[0mNone\u001b[0m\u001b[0;34m:\u001b[0m\u001b[0;34m\u001b[0m\u001b[0m\n\u001b[0;32m-> 1019\u001b[0;31m             \u001b[0mrv\u001b[0m \u001b[0;34m=\u001b[0m \u001b[0mfallback\u001b[0m\u001b[0;34m(\u001b[0m\u001b[0mself\u001b[0m\u001b[0;34m,\u001b[0m \u001b[0mold\u001b[0m\u001b[0;34m,\u001b[0m \u001b[0mnew\u001b[0m\u001b[0;34m)\u001b[0m\u001b[0;34m\u001b[0m\u001b[0m\n\u001b[0m\u001b[1;32m   1020\u001b[0m         \u001b[0;32mreturn\u001b[0m \u001b[0mrv\u001b[0m\u001b[0;34m\u001b[0m\u001b[0m\n\u001b[1;32m   1021\u001b[0m \u001b[0;34m\u001b[0m\u001b[0m\n",
        "\u001b[0;32m/home/svenni/.local/lib/python2.7/site-packages/sympy/core/basic.pyc\u001b[0m in \u001b[0;36mfallback\u001b[0;34m(self, old, new)\u001b[0m\n\u001b[1;32m    985\u001b[0m             \"\"\"\n\u001b[1;32m    986\u001b[0m             \u001b[0mhit\u001b[0m \u001b[0;34m=\u001b[0m \u001b[0mFalse\u001b[0m\u001b[0;34m\u001b[0m\u001b[0m\n\u001b[0;32m--> 987\u001b[0;31m             \u001b[0margs\u001b[0m \u001b[0;34m=\u001b[0m \u001b[0mlist\u001b[0m\u001b[0;34m(\u001b[0m\u001b[0mself\u001b[0m\u001b[0;34m.\u001b[0m\u001b[0margs\u001b[0m\u001b[0;34m)\u001b[0m\u001b[0;34m\u001b[0m\u001b[0m\n\u001b[0m\u001b[1;32m    988\u001b[0m             \u001b[0;32mfor\u001b[0m \u001b[0mi\u001b[0m\u001b[0;34m,\u001b[0m \u001b[0marg\u001b[0m \u001b[0;32min\u001b[0m \u001b[0menumerate\u001b[0m\u001b[0;34m(\u001b[0m\u001b[0margs\u001b[0m\u001b[0;34m)\u001b[0m\u001b[0;34m:\u001b[0m\u001b[0;34m\u001b[0m\u001b[0m\n\u001b[1;32m    989\u001b[0m                 \u001b[0;32mif\u001b[0m \u001b[0;32mnot\u001b[0m \u001b[0mhasattr\u001b[0m\u001b[0;34m(\u001b[0m\u001b[0marg\u001b[0m\u001b[0;34m,\u001b[0m \u001b[0;34m'_eval_subs'\u001b[0m\u001b[0;34m)\u001b[0m\u001b[0;34m:\u001b[0m\u001b[0;34m\u001b[0m\u001b[0m\n",
        "\u001b[0;31mKeyboardInterrupt\u001b[0m: "
       ]
      }
     ],
     "prompt_number": 21
    },
    {
     "cell_type": "code",
     "collapsed": false,
     "input": [
      "a = 0.2\n",
      "b = 0.3\n",
      "A = array([1.2,2.3,3.4])\n",
      "B = array([-1.3,1.4,-2.4])\n",
      "r = array([x, y, z])\n",
      "iA, jA, kA = 0,0,0\n",
      "iB, jB, kB = 0,0,1\n",
      "Gb = G(iB,jB,kB,b,r,B)\n",
      "kineticProduct = -0.5 * G(iA,jA,kA,a,r,A) * (diff(Gb, x, x) + diff(Gb, y, y) + diff(Gb, z, z))\n",
      "result = N(integrate(kineticProduct, (x,-oo, oo), (y,-oo,oo), (z,-oo,oo)))\n",
      "result"
     ],
     "language": "python",
     "metadata": {},
     "outputs": [
      {
       "latex": [
        "$$-0.158190730147696$$"
       ],
       "metadata": {},
       "output_type": "pyout",
       "png": "[encoded data removed]",
       "prompt_number": 19,
       "text": [
        "-0.158190730147696"
       ]
      }
     ],
     "prompt_number": 19
    },
    {
     "cell_type": "code",
     "collapsed": false,
     "input": [
      "a = 0.2\n",
      "b = 0.3\n",
      "A = array([1.2,2.3,3.4])\n",
      "B = array([-1.3,1.4,-2.4])\n",
      "r = array([x, y, z])\n",
      "iA, jA, kA = 0,0,1\n",
      "iB, jB, kB = 0,0,0\n",
      "Gb = G(iB,jB,kB,b,r,B)\n",
      "kineticProduct = -0.5 * G(iA,jA,kA,a,r,A) * (diff(Gb, x, x) + diff(Gb, y, y) + diff(Gb, z, z))\n",
      "result = N(integrate(kineticProduct, (x,-oo, oo), (y,-oo,oo), (z,-oo,oo)))\n",
      "result"
     ],
     "language": "python",
     "metadata": {},
     "outputs": [
      {
       "latex": [
        "$$0.237286095221543$$"
       ],
       "metadata": {},
       "output_type": "pyout",
       "png": "[encoded data removed]",
       "prompt_number": 20,
       "text": [
        "0.237286095221543"
       ]
      }
     ],
     "prompt_number": 20
    },
    {
     "cell_type": "code",
     "collapsed": false,
     "input": [
      "a = 0.2\n",
      "b = 0.3\n",
      "A = array([1.2,2.3,3.4])\n",
      "B = array([-1.3,1.4,-2.4])\n",
      "r = array([x, y, z])\n",
      "iA, jA, kA = 0,0,0\n",
      "iB, jB, kB = 0,0,2\n",
      "Gb = G(iB,jB,kB,b,r,B)\n",
      "kineticProduct = -0.5 * G(iA,jA,kA,a,r,A) * (diff(Gb, x, x) + diff(Gb, y, y) + diff(Gb, z, z))\n",
      "result = N(integrate(kineticProduct, (x,-oo, oo), (y,-oo,oo), (z,-oo,oo)))\n",
      "result"
     ],
     "language": "python",
     "metadata": {},
     "outputs": [
      {
       "latex": [
        "$$-0.328913099784411$$"
       ],
       "metadata": {},
       "output_type": "pyout",
       "png": "[encoded data removed]",
       "prompt_number": 22,
       "text": [
        "-0.328913099784411"
       ]
      }
     ],
     "prompt_number": 22
    },
    {
     "cell_type": "code",
     "collapsed": false,
     "input": [
      "a = 0.2\n",
      "b = 0.3\n",
      "A = array([1.2,2.3,3.4])\n",
      "B = array([-1.3,1.4,-2.4])\n",
      "r = array([x, y, z])\n",
      "iA, jA, kA = 0,0,0\n",
      "iB, jB, kB = 1,0,0\n",
      "Gb = G(iA,jA,kA,a,r,A)\n",
      "Ga = G(iB,jB,kB,b,r,B)\n",
      "kineticProduct = -0.5 * Ga * (diff(Gb, x, x) + diff(Gb, y, y) + diff(Gb, z, z))\n",
      "result = N(integrate(kineticProduct, (x,-oo, oo), (y,-oo,oo), (z,-oo,oo)))\n",
      "result"
     ],
     "language": "python",
     "metadata": {},
     "outputs": [
      {
       "latex": [
        "$$-0.0681856595464204$$"
       ],
       "metadata": {},
       "output_type": "pyout",
       "png": "[encoded data removed]",
       "prompt_number": 36,
       "text": [
        "-0.0681856595464204"
       ]
      }
     ],
     "prompt_number": 36
    },
    {
     "cell_type": "code",
     "collapsed": false,
     "input": [
      "a = 0.2\n",
      "b = 0.3\n",
      "A = array([1.2,2.3,3.4])\n",
      "B = array([-1.3,1.4,-2.4])\n",
      "r = array([x, y, z])\n",
      "iA, jA, kA = 0,0,0\n",
      "iB, jB, kB = 1,0,0\n",
      "Ga = G(iA,jA,kA,a,r,A)\n",
      "Gb = G(iB,jB,kB,b,r,B)\n",
      "#kineticProduct = -0.5 * Ga * (diff(Gb, x, x) + diff(Gb, y, y) + diff(Gb, z, z))\n",
      "kineticProduct = 0.5 * ((diff(Ga,x) * diff(Gb, x)) + (diff(Ga, y) * diff(Gb, y)) + (diff(Ga, z)*diff(Gb, z)))\n",
      "result = N(integrate(kineticProduct, (x,-oo, oo), (y,-oo,oo), (z,-oo,oo)))\n",
      "result"
     ],
     "language": "python",
     "metadata": {},
     "outputs": [
      {
       "latex": [
        "$$-0.0681856595464205$$"
       ],
       "metadata": {},
       "output_type": "pyout",
       "png": "[encoded data removed]",
       "prompt_number": 34,
       "text": [
        "-0.0681856595464205"
       ]
      }
     ],
     "prompt_number": 34
    },
    {
     "cell_type": "heading",
     "level": 2,
     "metadata": {},
     "source": [
      "Core Coulomb integrals"
     ]
    },
    {
     "cell_type": "code",
     "collapsed": false,
     "input": [
      "from numpy import *\n",
      "from itertools import product, combinations_with_replacement\n",
      "from IPython.display import display\n",
      "from scipy.integrate import tplquad\n",
      "combos = []\n",
      "a = 0.2\n",
      "b = 0.3\n",
      "A = array([1.2,2.3,3.4])\n",
      "B = array([-1.3,1.4,-2.4])\n",
      "C = array([2.3,0.9,3.2])\n",
      "def G(i,j,k,a,r,A):\n",
      "    rA = r - A\n",
      "    xA = rA[0]\n",
      "    yA = rA[1]\n",
      "    zA = rA[2]\n",
      "    rA2 = dot(rA,rA)\n",
      "    return xA**i * yA**j * zA**k * exp(-a * rA2)\n",
      "\n",
      "def coreProduct(x,y,z, iA, jA, kA, a, A, iB, jB, kB, b, B,C):\n",
      "    r = array([x, y, z])\n",
      "    rC_vec = r - C\n",
      "    rC = sqrt(dot(rC_vec, rC_vec))\n",
      "    #if rC < 1e-6:\n",
      "    #    return 0\n",
      "    #else:\n",
      "    return G(iA,jA,kA,a,r,A) * (1/rC) * G(iB,jB,kB,b,r,B)\n",
      "    \n",
      "#for combo in product(range(1), repeat=3):\n",
      "#    combos.append(combo)\n",
      "#for combo2 in combinations_with_replacement(combos, 2):\n",
      "iA, jA, kA = 1,1,1\n",
      "iB, jB, kB = 0,1,2\n",
      "theCoreProduct = coreProduct(2,2,1,iA,jA,kA,a,A,iB,jB,kB,b,B,C)\n",
      "limit = 10\n",
      "\n",
      "#rint theCoreProduct\n",
      "result = tplquad(coreProduct, \n",
      "                 -limit, limit, \n",
      "                 lambda y: -limit, lambda y: limit, \n",
      "                 lambda y,z: -limit, lambda y,z: limit, \n",
      "                 args=(iA,jA,kA,a,A,iB,jB,kB,b,B,C))\n",
      "print result\n",
      "\n",
      "#theCoreProduct2 = inty(1,1,iA,jA,kA,a,A,iB,jB,kB,b,B,C)\n",
      "#print theCoreProduct2\n",
      "#theCoreProduct3 = intz(1,iA,jA,kA,a,A,iB,jB,kB,b,B,C)\n",
      "#print theCoreProduct3\n",
      "#theCoreProduct4 = intall(iA,jA,kA,a,A,iB,jB,kB,b,B,C)\n",
      "#print theCoreProduct4\n",
      "#result = scipy.integrate.quad(G, 0, 4.5)\n",
      "#print result\n",
      "#print \"CHECK_CLOSE(integrator.coreIntegral(\" \\\n",
      "#     + str(combo2[0][0]) + \",\" + str(combo2[0][1]) + \",\" + str(combo2[0][2]) + \",\" \\\n",
      "#      + str(combo2[1][0]) + \",\" + str(combo2[1][1]) + \",\" + str(combo2[1][2]) + \"), \" + str(result) \\\n",
      "#        + \", 0.00001);\""
     ],
     "language": "python",
     "metadata": {},
     "outputs": [
      {
       "output_type": "stream",
       "stream": "stdout",
       "text": [
        "(0.5444239388116785, 7.979434138099056e-09)\n"
       ]
      }
     ],
     "prompt_number": 11
    },
    {
     "cell_type": "code",
     "collapsed": false,
     "input": [
      "from scipy.integrate import quad\n",
      "def integrand(x,y,z):\n",
      "    return x*y*z\n",
      "\n",
      "def inty(y,z):\n",
      "    return quad(integrand, 0, 5, args=(y,z))[0]\n",
      "\n",
      "def intz(z):\n",
      "    return quad(inty, 0, 5, args=(z))[0]\n",
      "\n",
      "#quad(intz, 0, 5)\n",
      "intz(1)"
     ],
     "language": "python",
     "metadata": {},
     "outputs": [
      {
       "latex": [
        "$$156.25$$"
       ],
       "metadata": {},
       "output_type": "pyout",
       "png": "[encoded data removed]",
       "prompt_number": 50,
       "text": [
        "156.25"
       ]
      }
     ],
     "prompt_number": 50
    },
    {
     "cell_type": "code",
     "collapsed": false,
     "input": [
      "from scipy.integrate import dblquad\n",
      "def integrand(x,y):\n",
      "    return x*y\n",
      "\n",
      "#quad(intz, 0, 5)\n",
      "dblquad(integrand, 0, 5, lambda y: 0, lambda y: 5)"
     ],
     "language": "python",
     "metadata": {},
     "outputs": [
      {
       "latex": [
        "$$\\begin{pmatrix}156.25, & 1.73472347598e-12\\end{pmatrix}$$"
       ],
       "metadata": {},
       "output_type": "pyout",
       "png": "[encoded data removed]",
       "prompt_number": 69,
       "text": [
        "(156.25, 1.73472347598e-12)"
       ]
      }
     ],
     "prompt_number": 69
    },
    {
     "cell_type": "code",
     "collapsed": false,
     "input": [
      "from scipy.integrate import tplquad\n",
      "def integrand(x,y,z):\n",
      "    return x*y*1\n",
      "\n",
      "#quad(intz, 0, 5)\n",
      "tplquad(integrand, 0, 5, lambda y: 0, lambda y: 5, lambda y,z: 0, lambda y,z: 5)"
     ],
     "language": "python",
     "metadata": {},
     "outputs": [
      {
       "metadata": {},
       "output_type": "pyout",
       "prompt_number": 1,
       "text": [
        "(781.2499999999998, 8.673617379884032e-12)"
       ]
      }
     ],
     "prompt_number": 1
    },
    {
     "cell_type": "code",
     "collapsed": false,
     "input": [
      "tplquad?"
     ],
     "language": "python",
     "metadata": {},
     "outputs": [],
     "prompt_number": 3
    },
    {
     "cell_type": "heading",
     "level": 2,
     "metadata": {},
     "source": [
      "Boys function"
     ]
    },
    {
     "cell_type": "code",
     "collapsed": false,
     "input": [
      "from scipy.integrate import trapz, quad"
     ],
     "language": "python",
     "metadata": {},
     "outputs": [],
     "prompt_number": 7
    },
    {
     "cell_type": "code",
     "collapsed": false,
     "input": [
      "quad(lambda t: exp(-0.01*t**2), 0, 1)"
     ],
     "language": "python",
     "metadata": {},
     "outputs": [
      {
       "latex": [
        "$$\\begin{pmatrix}0.996676642903, & 1.10653335706e-14\\end{pmatrix}$$"
       ],
       "metadata": {},
       "output_type": "pyout",
       "prompt_number": 12,
       "text": [
        "(0.996676642903, 1.10653335706e-14)"
       ]
      }
     ],
     "prompt_number": 12
    },
    {
     "cell_type": "code",
     "collapsed": false,
     "input": [
      "from sympy.abc import *\n",
      "from sympy import *"
     ],
     "language": "python",
     "metadata": {},
     "outputs": [],
     "prompt_number": 19
    },
    {
     "cell_type": "code",
     "collapsed": false,
     "input": [
      "N(integrate(exp(-0.01*t**2), (t, 0, 1)))"
     ],
     "language": "python",
     "metadata": {},
     "outputs": [
      {
       "latex": [
        "$$0.996676642903363$$"
       ],
       "metadata": {},
       "output_type": "pyout",
       "png": "[encoded data removed]",
       "prompt_number": 20,
       "text": [
        "0.996676642903363"
       ]
      }
     ],
     "prompt_number": 20
    },
    {
     "cell_type": "code",
     "collapsed": false,
     "input": [],
     "language": "python",
     "metadata": {},
     "outputs": []
    }
   ],
   "metadata": {}
  }
 ]
}