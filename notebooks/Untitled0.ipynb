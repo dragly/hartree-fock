{
 "metadata": {
  "name": ""
 },
 "nbformat": 3,
 "nbformat_minor": 0,
 "worksheets": [
  {
   "cells": [
    {
     "cell_type": "code",
     "collapsed": false,
     "input": [
      "from numpy import *\n",
      "\n",
      "from sympy import *\n",
      "\n",
      "\n",
      "init_printing(use_unicode=True)\n",
      "\n",
      "\n",
      "\n",
      "x, y, z = symbols('x, y, z')\n",
      "\n",
      "\n",
      "alpha = 0.2; beta = 0.3\n",
      "\n",
      "\n",
      "Ax = 1.2; Ay = 2.3; Az = 3.4\n",
      "\n",
      "Bx = -1.3; By = 1.4; Bz = -2.4\n",
      "\n",
      "\n",
      "rA = array([x - Ax, y - Ay, z - Az])\n",
      "\n",
      "rB = array([x - Bx, y - By, z - Bz])\n",
      "\n",
      "\n",
      "I = integrate(exp(-alpha*dot(rA,rA) - beta*dot(rB,rB)), (x, -oo, oo), (y, -oo, oo), (z, -oo, oo))\n",
      "\n",
      "\n",
      "print I"
     ],
     "language": "python",
     "metadata": {},
     "outputs": [
      {
       "output_type": "stream",
       "stream": "stdout",
       "text": [
        "0.0214018218123393*pi**(3/2)\n"
       ]
      }
     ],
     "prompt_number": 1
    },
    {
     "cell_type": "code",
     "collapsed": false,
     "input": [
      "import sympy\n",
      "print sympy.__version__"
     ],
     "language": "python",
     "metadata": {},
     "outputs": [
      {
       "output_type": "stream",
       "stream": "stdout",
       "text": [
        "0.7.3\n"
       ]
      }
     ],
     "prompt_number": 2
    },
    {
     "cell_type": "code",
     "collapsed": false,
     "input": [],
     "language": "python",
     "metadata": {},
     "outputs": [],
     "prompt_number": 2
    }
   ],
   "metadata": {}
  }
 ]
}